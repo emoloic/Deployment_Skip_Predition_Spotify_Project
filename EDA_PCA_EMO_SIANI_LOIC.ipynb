{
 "cells": [
  {
   "cell_type": "markdown",
   "metadata": {},
   "source": [
    "# Technocolabs Software"
   ]
  },
  {
   "cell_type": "markdown",
   "metadata": {},
   "source": [
    "# Machine Learning Developer Internship"
   ]
  },
  {
   "cell_type": "markdown",
   "metadata": {},
   "source": [
    "# Author: EMO SIANI LOIC"
   ]
  },
  {
   "cell_type": "markdown",
   "metadata": {},
   "source": [
    "# Task: Perform Exploratory Data Analysis based on Spotify Dataset"
   ]
  },
  {
   "cell_type": "markdown",
   "metadata": {},
   "source": [
    "## 1- Importing libraries"
   ]
  },
  {
   "cell_type": "code",
   "execution_count": 1,
   "metadata": {},
   "outputs": [],
   "source": [
    "import pandas as pd\n",
    "import numpy as np\n",
    "import seaborn as sns\n",
    "import matplotlib.pyplot as plt\n",
    "import warnings\n",
    "warnings.filterwarnings('ignore')"
   ]
  },
  {
   "cell_type": "markdown",
   "metadata": {},
   "source": [
    "## 2- Importing Dataset"
   ]
  },
  {
   "cell_type": "markdown",
   "metadata": {},
   "source": [
    "### a- tf_mini dataset"
   ]
  },
  {
   "cell_type": "code",
   "execution_count": 2,
   "metadata": {},
   "outputs": [],
   "source": [
    "tf_mini = pd.read_csv('Dataset/tf_mini.csv')"
   ]
  },
  {
   "cell_type": "code",
   "execution_count": 3,
   "metadata": {},
   "outputs": [
    {
     "data": {
      "text/html": [
       "<div>\n",
       "<style scoped>\n",
       "    .dataframe tbody tr th:only-of-type {\n",
       "        vertical-align: middle;\n",
       "    }\n",
       "\n",
       "    .dataframe tbody tr th {\n",
       "        vertical-align: top;\n",
       "    }\n",
       "\n",
       "    .dataframe thead th {\n",
       "        text-align: right;\n",
       "    }\n",
       "</style>\n",
       "<table border=\"1\" class=\"dataframe\">\n",
       "  <thead>\n",
       "    <tr style=\"text-align: right;\">\n",
       "      <th></th>\n",
       "      <th>track_id</th>\n",
       "      <th>duration</th>\n",
       "      <th>release_year</th>\n",
       "      <th>us_popularity_estimate</th>\n",
       "      <th>acousticness</th>\n",
       "      <th>beat_strength</th>\n",
       "      <th>bounciness</th>\n",
       "      <th>danceability</th>\n",
       "      <th>dyn_range_mean</th>\n",
       "      <th>energy</th>\n",
       "      <th>...</th>\n",
       "      <th>time_signature</th>\n",
       "      <th>valence</th>\n",
       "      <th>acoustic_vector_0</th>\n",
       "      <th>acoustic_vector_1</th>\n",
       "      <th>acoustic_vector_2</th>\n",
       "      <th>acoustic_vector_3</th>\n",
       "      <th>acoustic_vector_4</th>\n",
       "      <th>acoustic_vector_5</th>\n",
       "      <th>acoustic_vector_6</th>\n",
       "      <th>acoustic_vector_7</th>\n",
       "    </tr>\n",
       "  </thead>\n",
       "  <tbody>\n",
       "    <tr>\n",
       "      <th>0</th>\n",
       "      <td>t_a540e552-16d4-42f8-a185-232bd650ea7d</td>\n",
       "      <td>109.706673</td>\n",
       "      <td>1950</td>\n",
       "      <td>99.975414</td>\n",
       "      <td>0.458040</td>\n",
       "      <td>0.519497</td>\n",
       "      <td>0.504949</td>\n",
       "      <td>0.399767</td>\n",
       "      <td>7.511880</td>\n",
       "      <td>0.817709</td>\n",
       "      <td>...</td>\n",
       "      <td>4</td>\n",
       "      <td>0.935512</td>\n",
       "      <td>-0.033284</td>\n",
       "      <td>-0.411896</td>\n",
       "      <td>-0.028580</td>\n",
       "      <td>0.349438</td>\n",
       "      <td>0.832467</td>\n",
       "      <td>-0.213871</td>\n",
       "      <td>-0.299464</td>\n",
       "      <td>-0.675907</td>\n",
       "    </tr>\n",
       "    <tr>\n",
       "      <th>1</th>\n",
       "      <td>t_67965da0-132b-4b1e-8a69-0ef99b32287c</td>\n",
       "      <td>187.693329</td>\n",
       "      <td>1950</td>\n",
       "      <td>99.969430</td>\n",
       "      <td>0.916272</td>\n",
       "      <td>0.419223</td>\n",
       "      <td>0.545530</td>\n",
       "      <td>0.491235</td>\n",
       "      <td>9.098376</td>\n",
       "      <td>0.154258</td>\n",
       "      <td>...</td>\n",
       "      <td>3</td>\n",
       "      <td>0.359675</td>\n",
       "      <td>0.145703</td>\n",
       "      <td>-0.850372</td>\n",
       "      <td>0.123860</td>\n",
       "      <td>0.746904</td>\n",
       "      <td>0.371803</td>\n",
       "      <td>-0.420558</td>\n",
       "      <td>-0.213120</td>\n",
       "      <td>-0.525795</td>\n",
       "    </tr>\n",
       "    <tr>\n",
       "      <th>2</th>\n",
       "      <td>t_0614ecd3-a7d5-40a1-816e-156d5872a467</td>\n",
       "      <td>160.839996</td>\n",
       "      <td>1951</td>\n",
       "      <td>99.602549</td>\n",
       "      <td>0.812884</td>\n",
       "      <td>0.425890</td>\n",
       "      <td>0.508280</td>\n",
       "      <td>0.491625</td>\n",
       "      <td>8.368670</td>\n",
       "      <td>0.358813</td>\n",
       "      <td>...</td>\n",
       "      <td>4</td>\n",
       "      <td>0.726769</td>\n",
       "      <td>0.021720</td>\n",
       "      <td>-0.743634</td>\n",
       "      <td>0.333247</td>\n",
       "      <td>0.568447</td>\n",
       "      <td>0.411094</td>\n",
       "      <td>-0.187749</td>\n",
       "      <td>-0.387599</td>\n",
       "      <td>-0.433496</td>\n",
       "    </tr>\n",
       "    <tr>\n",
       "      <th>3</th>\n",
       "      <td>t_070a63a0-744a-434e-9913-a97b02926a29</td>\n",
       "      <td>175.399994</td>\n",
       "      <td>1951</td>\n",
       "      <td>99.665018</td>\n",
       "      <td>0.396854</td>\n",
       "      <td>0.400934</td>\n",
       "      <td>0.359990</td>\n",
       "      <td>0.552227</td>\n",
       "      <td>5.967346</td>\n",
       "      <td>0.514585</td>\n",
       "      <td>...</td>\n",
       "      <td>4</td>\n",
       "      <td>0.859075</td>\n",
       "      <td>0.039143</td>\n",
       "      <td>-0.267555</td>\n",
       "      <td>-0.051825</td>\n",
       "      <td>0.106173</td>\n",
       "      <td>0.614825</td>\n",
       "      <td>-0.111419</td>\n",
       "      <td>-0.265953</td>\n",
       "      <td>-0.542753</td>\n",
       "    </tr>\n",
       "    <tr>\n",
       "      <th>4</th>\n",
       "      <td>t_d6990e17-9c31-4b01-8559-47d9ce476df1</td>\n",
       "      <td>369.600006</td>\n",
       "      <td>1951</td>\n",
       "      <td>99.991764</td>\n",
       "      <td>0.728831</td>\n",
       "      <td>0.371328</td>\n",
       "      <td>0.335115</td>\n",
       "      <td>0.483044</td>\n",
       "      <td>5.802681</td>\n",
       "      <td>0.721442</td>\n",
       "      <td>...</td>\n",
       "      <td>4</td>\n",
       "      <td>0.562343</td>\n",
       "      <td>0.131931</td>\n",
       "      <td>-0.292523</td>\n",
       "      <td>-0.174819</td>\n",
       "      <td>-0.034422</td>\n",
       "      <td>0.717229</td>\n",
       "      <td>-0.016239</td>\n",
       "      <td>-0.392694</td>\n",
       "      <td>-0.455496</td>\n",
       "    </tr>\n",
       "  </tbody>\n",
       "</table>\n",
       "<p>5 rows × 30 columns</p>\n",
       "</div>"
      ],
      "text/plain": [
       "                                 track_id    duration  release_year  \\\n",
       "0  t_a540e552-16d4-42f8-a185-232bd650ea7d  109.706673          1950   \n",
       "1  t_67965da0-132b-4b1e-8a69-0ef99b32287c  187.693329          1950   \n",
       "2  t_0614ecd3-a7d5-40a1-816e-156d5872a467  160.839996          1951   \n",
       "3  t_070a63a0-744a-434e-9913-a97b02926a29  175.399994          1951   \n",
       "4  t_d6990e17-9c31-4b01-8559-47d9ce476df1  369.600006          1951   \n",
       "\n",
       "   us_popularity_estimate  acousticness  beat_strength  bounciness  \\\n",
       "0               99.975414      0.458040       0.519497    0.504949   \n",
       "1               99.969430      0.916272       0.419223    0.545530   \n",
       "2               99.602549      0.812884       0.425890    0.508280   \n",
       "3               99.665018      0.396854       0.400934    0.359990   \n",
       "4               99.991764      0.728831       0.371328    0.335115   \n",
       "\n",
       "   danceability  dyn_range_mean    energy  ...  time_signature   valence  \\\n",
       "0      0.399767        7.511880  0.817709  ...               4  0.935512   \n",
       "1      0.491235        9.098376  0.154258  ...               3  0.359675   \n",
       "2      0.491625        8.368670  0.358813  ...               4  0.726769   \n",
       "3      0.552227        5.967346  0.514585  ...               4  0.859075   \n",
       "4      0.483044        5.802681  0.721442  ...               4  0.562343   \n",
       "\n",
       "   acoustic_vector_0  acoustic_vector_1  acoustic_vector_2  acoustic_vector_3  \\\n",
       "0          -0.033284          -0.411896          -0.028580           0.349438   \n",
       "1           0.145703          -0.850372           0.123860           0.746904   \n",
       "2           0.021720          -0.743634           0.333247           0.568447   \n",
       "3           0.039143          -0.267555          -0.051825           0.106173   \n",
       "4           0.131931          -0.292523          -0.174819          -0.034422   \n",
       "\n",
       "  acoustic_vector_4  acoustic_vector_5  acoustic_vector_6  acoustic_vector_7  \n",
       "0          0.832467          -0.213871          -0.299464          -0.675907  \n",
       "1          0.371803          -0.420558          -0.213120          -0.525795  \n",
       "2          0.411094          -0.187749          -0.387599          -0.433496  \n",
       "3          0.614825          -0.111419          -0.265953          -0.542753  \n",
       "4          0.717229          -0.016239          -0.392694          -0.455496  \n",
       "\n",
       "[5 rows x 30 columns]"
      ]
     },
     "execution_count": 3,
     "metadata": {},
     "output_type": "execute_result"
    }
   ],
   "source": [
    "tf_mini.head()"
   ]
  },
  {
   "cell_type": "code",
   "execution_count": 4,
   "metadata": {},
   "outputs": [
    {
     "data": {
      "text/plain": [
       "(50704, 30)"
      ]
     },
     "execution_count": 4,
     "metadata": {},
     "output_type": "execute_result"
    }
   ],
   "source": [
    "tf_mini.shape"
   ]
  },
  {
   "cell_type": "code",
   "execution_count": 5,
   "metadata": {},
   "outputs": [
    {
     "data": {
      "text/plain": [
       "track_id                   object\n",
       "duration                  float64\n",
       "release_year                int64\n",
       "us_popularity_estimate    float64\n",
       "acousticness              float64\n",
       "beat_strength             float64\n",
       "bounciness                float64\n",
       "danceability              float64\n",
       "dyn_range_mean            float64\n",
       "energy                    float64\n",
       "flatness                  float64\n",
       "instrumentalness          float64\n",
       "key                         int64\n",
       "liveness                  float64\n",
       "loudness                  float64\n",
       "mechanism                 float64\n",
       "mode                       object\n",
       "organism                  float64\n",
       "speechiness               float64\n",
       "tempo                     float64\n",
       "time_signature              int64\n",
       "valence                   float64\n",
       "acoustic_vector_0         float64\n",
       "acoustic_vector_1         float64\n",
       "acoustic_vector_2         float64\n",
       "acoustic_vector_3         float64\n",
       "acoustic_vector_4         float64\n",
       "acoustic_vector_5         float64\n",
       "acoustic_vector_6         float64\n",
       "acoustic_vector_7         float64\n",
       "dtype: object"
      ]
     },
     "execution_count": 5,
     "metadata": {},
     "output_type": "execute_result"
    }
   ],
   "source": [
    "tf_mini.dtypes"
   ]
  },
  {
   "cell_type": "code",
   "execution_count": 6,
   "metadata": {},
   "outputs": [
    {
     "data": {
      "text/plain": [
       "track_id                  0\n",
       "duration                  0\n",
       "release_year              0\n",
       "us_popularity_estimate    0\n",
       "acousticness              0\n",
       "beat_strength             0\n",
       "bounciness                0\n",
       "danceability              0\n",
       "dyn_range_mean            0\n",
       "energy                    0\n",
       "flatness                  0\n",
       "instrumentalness          0\n",
       "key                       0\n",
       "liveness                  0\n",
       "loudness                  0\n",
       "mechanism                 0\n",
       "mode                      0\n",
       "organism                  0\n",
       "speechiness               0\n",
       "tempo                     0\n",
       "time_signature            0\n",
       "valence                   0\n",
       "acoustic_vector_0         0\n",
       "acoustic_vector_1         0\n",
       "acoustic_vector_2         0\n",
       "acoustic_vector_3         0\n",
       "acoustic_vector_4         0\n",
       "acoustic_vector_5         0\n",
       "acoustic_vector_6         0\n",
       "acoustic_vector_7         0\n",
       "dtype: int64"
      ]
     },
     "execution_count": 6,
     "metadata": {},
     "output_type": "execute_result"
    }
   ],
   "source": [
    "tf_mini.isnull().sum()"
   ]
  },
  {
   "cell_type": "markdown",
   "metadata": {},
   "source": [
    "### b- log_mini dataset"
   ]
  },
  {
   "cell_type": "code",
   "execution_count": 7,
   "metadata": {},
   "outputs": [],
   "source": [
    "log_mini = pd.read_csv('Dataset/log_mini.csv')"
   ]
  },
  {
   "cell_type": "code",
   "execution_count": 8,
   "metadata": {},
   "outputs": [
    {
     "data": {
      "text/html": [
       "<div>\n",
       "<style scoped>\n",
       "    .dataframe tbody tr th:only-of-type {\n",
       "        vertical-align: middle;\n",
       "    }\n",
       "\n",
       "    .dataframe tbody tr th {\n",
       "        vertical-align: top;\n",
       "    }\n",
       "\n",
       "    .dataframe thead th {\n",
       "        text-align: right;\n",
       "    }\n",
       "</style>\n",
       "<table border=\"1\" class=\"dataframe\">\n",
       "  <thead>\n",
       "    <tr style=\"text-align: right;\">\n",
       "      <th></th>\n",
       "      <th>session_id</th>\n",
       "      <th>session_position</th>\n",
       "      <th>session_length</th>\n",
       "      <th>track_id_clean</th>\n",
       "      <th>skip_1</th>\n",
       "      <th>skip_2</th>\n",
       "      <th>skip_3</th>\n",
       "      <th>not_skipped</th>\n",
       "      <th>context_switch</th>\n",
       "      <th>no_pause_before_play</th>\n",
       "      <th>...</th>\n",
       "      <th>long_pause_before_play</th>\n",
       "      <th>hist_user_behavior_n_seekfwd</th>\n",
       "      <th>hist_user_behavior_n_seekback</th>\n",
       "      <th>hist_user_behavior_is_shuffle</th>\n",
       "      <th>hour_of_day</th>\n",
       "      <th>date</th>\n",
       "      <th>premium</th>\n",
       "      <th>context_type</th>\n",
       "      <th>hist_user_behavior_reason_start</th>\n",
       "      <th>hist_user_behavior_reason_end</th>\n",
       "    </tr>\n",
       "  </thead>\n",
       "  <tbody>\n",
       "    <tr>\n",
       "      <th>0</th>\n",
       "      <td>0_00006f66-33e5-4de7-a324-2d18e439fc1e</td>\n",
       "      <td>1</td>\n",
       "      <td>20</td>\n",
       "      <td>t_0479f24c-27d2-46d6-a00c-7ec928f2b539</td>\n",
       "      <td>False</td>\n",
       "      <td>False</td>\n",
       "      <td>False</td>\n",
       "      <td>True</td>\n",
       "      <td>0</td>\n",
       "      <td>0</td>\n",
       "      <td>...</td>\n",
       "      <td>0</td>\n",
       "      <td>0</td>\n",
       "      <td>0</td>\n",
       "      <td>True</td>\n",
       "      <td>16</td>\n",
       "      <td>2018-07-15</td>\n",
       "      <td>True</td>\n",
       "      <td>editorial_playlist</td>\n",
       "      <td>trackdone</td>\n",
       "      <td>trackdone</td>\n",
       "    </tr>\n",
       "    <tr>\n",
       "      <th>1</th>\n",
       "      <td>0_00006f66-33e5-4de7-a324-2d18e439fc1e</td>\n",
       "      <td>2</td>\n",
       "      <td>20</td>\n",
       "      <td>t_9099cd7b-c238-47b7-9381-f23f2c1d1043</td>\n",
       "      <td>False</td>\n",
       "      <td>False</td>\n",
       "      <td>False</td>\n",
       "      <td>True</td>\n",
       "      <td>0</td>\n",
       "      <td>1</td>\n",
       "      <td>...</td>\n",
       "      <td>0</td>\n",
       "      <td>0</td>\n",
       "      <td>0</td>\n",
       "      <td>True</td>\n",
       "      <td>16</td>\n",
       "      <td>2018-07-15</td>\n",
       "      <td>True</td>\n",
       "      <td>editorial_playlist</td>\n",
       "      <td>trackdone</td>\n",
       "      <td>trackdone</td>\n",
       "    </tr>\n",
       "    <tr>\n",
       "      <th>2</th>\n",
       "      <td>0_00006f66-33e5-4de7-a324-2d18e439fc1e</td>\n",
       "      <td>3</td>\n",
       "      <td>20</td>\n",
       "      <td>t_fc5df5ba-5396-49a7-8b29-35d0d28249e0</td>\n",
       "      <td>False</td>\n",
       "      <td>False</td>\n",
       "      <td>False</td>\n",
       "      <td>True</td>\n",
       "      <td>0</td>\n",
       "      <td>1</td>\n",
       "      <td>...</td>\n",
       "      <td>0</td>\n",
       "      <td>0</td>\n",
       "      <td>0</td>\n",
       "      <td>True</td>\n",
       "      <td>16</td>\n",
       "      <td>2018-07-15</td>\n",
       "      <td>True</td>\n",
       "      <td>editorial_playlist</td>\n",
       "      <td>trackdone</td>\n",
       "      <td>trackdone</td>\n",
       "    </tr>\n",
       "    <tr>\n",
       "      <th>3</th>\n",
       "      <td>0_00006f66-33e5-4de7-a324-2d18e439fc1e</td>\n",
       "      <td>4</td>\n",
       "      <td>20</td>\n",
       "      <td>t_23cff8d6-d874-4b20-83dc-94e450e8aa20</td>\n",
       "      <td>False</td>\n",
       "      <td>False</td>\n",
       "      <td>False</td>\n",
       "      <td>True</td>\n",
       "      <td>0</td>\n",
       "      <td>1</td>\n",
       "      <td>...</td>\n",
       "      <td>0</td>\n",
       "      <td>0</td>\n",
       "      <td>0</td>\n",
       "      <td>True</td>\n",
       "      <td>16</td>\n",
       "      <td>2018-07-15</td>\n",
       "      <td>True</td>\n",
       "      <td>editorial_playlist</td>\n",
       "      <td>trackdone</td>\n",
       "      <td>trackdone</td>\n",
       "    </tr>\n",
       "    <tr>\n",
       "      <th>4</th>\n",
       "      <td>0_00006f66-33e5-4de7-a324-2d18e439fc1e</td>\n",
       "      <td>5</td>\n",
       "      <td>20</td>\n",
       "      <td>t_64f3743c-f624-46bb-a579-0f3f9a07a123</td>\n",
       "      <td>False</td>\n",
       "      <td>False</td>\n",
       "      <td>False</td>\n",
       "      <td>True</td>\n",
       "      <td>0</td>\n",
       "      <td>1</td>\n",
       "      <td>...</td>\n",
       "      <td>0</td>\n",
       "      <td>0</td>\n",
       "      <td>0</td>\n",
       "      <td>True</td>\n",
       "      <td>16</td>\n",
       "      <td>2018-07-15</td>\n",
       "      <td>True</td>\n",
       "      <td>editorial_playlist</td>\n",
       "      <td>trackdone</td>\n",
       "      <td>trackdone</td>\n",
       "    </tr>\n",
       "  </tbody>\n",
       "</table>\n",
       "<p>5 rows × 21 columns</p>\n",
       "</div>"
      ],
      "text/plain": [
       "                               session_id  session_position  session_length  \\\n",
       "0  0_00006f66-33e5-4de7-a324-2d18e439fc1e                 1              20   \n",
       "1  0_00006f66-33e5-4de7-a324-2d18e439fc1e                 2              20   \n",
       "2  0_00006f66-33e5-4de7-a324-2d18e439fc1e                 3              20   \n",
       "3  0_00006f66-33e5-4de7-a324-2d18e439fc1e                 4              20   \n",
       "4  0_00006f66-33e5-4de7-a324-2d18e439fc1e                 5              20   \n",
       "\n",
       "                           track_id_clean  skip_1  skip_2  skip_3  \\\n",
       "0  t_0479f24c-27d2-46d6-a00c-7ec928f2b539   False   False   False   \n",
       "1  t_9099cd7b-c238-47b7-9381-f23f2c1d1043   False   False   False   \n",
       "2  t_fc5df5ba-5396-49a7-8b29-35d0d28249e0   False   False   False   \n",
       "3  t_23cff8d6-d874-4b20-83dc-94e450e8aa20   False   False   False   \n",
       "4  t_64f3743c-f624-46bb-a579-0f3f9a07a123   False   False   False   \n",
       "\n",
       "   not_skipped  context_switch  no_pause_before_play  ...  \\\n",
       "0         True               0                     0  ...   \n",
       "1         True               0                     1  ...   \n",
       "2         True               0                     1  ...   \n",
       "3         True               0                     1  ...   \n",
       "4         True               0                     1  ...   \n",
       "\n",
       "   long_pause_before_play  hist_user_behavior_n_seekfwd  \\\n",
       "0                       0                             0   \n",
       "1                       0                             0   \n",
       "2                       0                             0   \n",
       "3                       0                             0   \n",
       "4                       0                             0   \n",
       "\n",
       "   hist_user_behavior_n_seekback  hist_user_behavior_is_shuffle  hour_of_day  \\\n",
       "0                              0                           True           16   \n",
       "1                              0                           True           16   \n",
       "2                              0                           True           16   \n",
       "3                              0                           True           16   \n",
       "4                              0                           True           16   \n",
       "\n",
       "         date premium        context_type hist_user_behavior_reason_start  \\\n",
       "0  2018-07-15    True  editorial_playlist                       trackdone   \n",
       "1  2018-07-15    True  editorial_playlist                       trackdone   \n",
       "2  2018-07-15    True  editorial_playlist                       trackdone   \n",
       "3  2018-07-15    True  editorial_playlist                       trackdone   \n",
       "4  2018-07-15    True  editorial_playlist                       trackdone   \n",
       "\n",
       "  hist_user_behavior_reason_end  \n",
       "0                     trackdone  \n",
       "1                     trackdone  \n",
       "2                     trackdone  \n",
       "3                     trackdone  \n",
       "4                     trackdone  \n",
       "\n",
       "[5 rows x 21 columns]"
      ]
     },
     "execution_count": 8,
     "metadata": {},
     "output_type": "execute_result"
    }
   ],
   "source": [
    "log_mini.head()"
   ]
  },
  {
   "cell_type": "code",
   "execution_count": 9,
   "metadata": {},
   "outputs": [
    {
     "data": {
      "text/plain": [
       "(167880, 21)"
      ]
     },
     "execution_count": 9,
     "metadata": {},
     "output_type": "execute_result"
    }
   ],
   "source": [
    "log_mini.shape"
   ]
  },
  {
   "cell_type": "code",
   "execution_count": 10,
   "metadata": {},
   "outputs": [
    {
     "data": {
      "text/plain": [
       "session_id                         object\n",
       "session_position                    int64\n",
       "session_length                      int64\n",
       "track_id_clean                     object\n",
       "skip_1                               bool\n",
       "skip_2                               bool\n",
       "skip_3                               bool\n",
       "not_skipped                          bool\n",
       "context_switch                      int64\n",
       "no_pause_before_play                int64\n",
       "short_pause_before_play             int64\n",
       "long_pause_before_play              int64\n",
       "hist_user_behavior_n_seekfwd        int64\n",
       "hist_user_behavior_n_seekback       int64\n",
       "hist_user_behavior_is_shuffle        bool\n",
       "hour_of_day                         int64\n",
       "date                               object\n",
       "premium                              bool\n",
       "context_type                       object\n",
       "hist_user_behavior_reason_start    object\n",
       "hist_user_behavior_reason_end      object\n",
       "dtype: object"
      ]
     },
     "execution_count": 10,
     "metadata": {},
     "output_type": "execute_result"
    }
   ],
   "source": [
    "log_mini.dtypes"
   ]
  },
  {
   "cell_type": "code",
   "execution_count": 11,
   "metadata": {},
   "outputs": [
    {
     "data": {
      "text/plain": [
       "session_id                         0\n",
       "session_position                   0\n",
       "session_length                     0\n",
       "track_id_clean                     0\n",
       "skip_1                             0\n",
       "skip_2                             0\n",
       "skip_3                             0\n",
       "not_skipped                        0\n",
       "context_switch                     0\n",
       "no_pause_before_play               0\n",
       "short_pause_before_play            0\n",
       "long_pause_before_play             0\n",
       "hist_user_behavior_n_seekfwd       0\n",
       "hist_user_behavior_n_seekback      0\n",
       "hist_user_behavior_is_shuffle      0\n",
       "hour_of_day                        0\n",
       "date                               0\n",
       "premium                            0\n",
       "context_type                       0\n",
       "hist_user_behavior_reason_start    0\n",
       "hist_user_behavior_reason_end      0\n",
       "dtype: int64"
      ]
     },
     "execution_count": 11,
     "metadata": {},
     "output_type": "execute_result"
    }
   ],
   "source": [
    "log_mini.isnull().sum()"
   ]
  },
  {
   "cell_type": "markdown",
   "metadata": {},
   "source": [
    "**After checking on both dataset whether there are missing values or not. We found out that our datasets do not content any missing values so we can merge them by using the  track_id column.\n",
    "First, we have to rename the column track_id_clean to track_id in the dataset log_mini so it will match exactly the same name as in the tf_mini dataset.**"
   ]
  },
  {
   "cell_type": "code",
   "execution_count": 12,
   "metadata": {},
   "outputs": [],
   "source": [
    "log_mini.rename(columns={\"track_id_clean\":\"track_id\"},inplace=True)"
   ]
  },
  {
   "cell_type": "code",
   "execution_count": 13,
   "metadata": {},
   "outputs": [
    {
     "data": {
      "text/plain": [
       "Index(['session_id', 'session_position', 'session_length', 'track_id',\n",
       "       'skip_1', 'skip_2', 'skip_3', 'not_skipped', 'context_switch',\n",
       "       'no_pause_before_play', 'short_pause_before_play',\n",
       "       'long_pause_before_play', 'hist_user_behavior_n_seekfwd',\n",
       "       'hist_user_behavior_n_seekback', 'hist_user_behavior_is_shuffle',\n",
       "       'hour_of_day', 'date', 'premium', 'context_type',\n",
       "       'hist_user_behavior_reason_start', 'hist_user_behavior_reason_end'],\n",
       "      dtype='object')"
      ]
     },
     "execution_count": 13,
     "metadata": {},
     "output_type": "execute_result"
    }
   ],
   "source": [
    "log_mini.columns"
   ]
  },
  {
   "cell_type": "code",
   "execution_count": 14,
   "metadata": {},
   "outputs": [],
   "source": [
    "dataset = log_mini.merge(tf_mini,on=\"track_id\")"
   ]
  },
  {
   "cell_type": "code",
   "execution_count": 15,
   "metadata": {},
   "outputs": [
    {
     "data": {
      "text/html": [
       "<div>\n",
       "<style scoped>\n",
       "    .dataframe tbody tr th:only-of-type {\n",
       "        vertical-align: middle;\n",
       "    }\n",
       "\n",
       "    .dataframe tbody tr th {\n",
       "        vertical-align: top;\n",
       "    }\n",
       "\n",
       "    .dataframe thead th {\n",
       "        text-align: right;\n",
       "    }\n",
       "</style>\n",
       "<table border=\"1\" class=\"dataframe\">\n",
       "  <thead>\n",
       "    <tr style=\"text-align: right;\">\n",
       "      <th></th>\n",
       "      <th>session_id</th>\n",
       "      <th>session_position</th>\n",
       "      <th>session_length</th>\n",
       "      <th>track_id</th>\n",
       "      <th>skip_1</th>\n",
       "      <th>skip_2</th>\n",
       "      <th>skip_3</th>\n",
       "      <th>not_skipped</th>\n",
       "      <th>context_switch</th>\n",
       "      <th>no_pause_before_play</th>\n",
       "      <th>...</th>\n",
       "      <th>time_signature</th>\n",
       "      <th>valence</th>\n",
       "      <th>acoustic_vector_0</th>\n",
       "      <th>acoustic_vector_1</th>\n",
       "      <th>acoustic_vector_2</th>\n",
       "      <th>acoustic_vector_3</th>\n",
       "      <th>acoustic_vector_4</th>\n",
       "      <th>acoustic_vector_5</th>\n",
       "      <th>acoustic_vector_6</th>\n",
       "      <th>acoustic_vector_7</th>\n",
       "    </tr>\n",
       "  </thead>\n",
       "  <tbody>\n",
       "    <tr>\n",
       "      <th>0</th>\n",
       "      <td>0_00006f66-33e5-4de7-a324-2d18e439fc1e</td>\n",
       "      <td>1</td>\n",
       "      <td>20</td>\n",
       "      <td>t_0479f24c-27d2-46d6-a00c-7ec928f2b539</td>\n",
       "      <td>False</td>\n",
       "      <td>False</td>\n",
       "      <td>False</td>\n",
       "      <td>True</td>\n",
       "      <td>0</td>\n",
       "      <td>0</td>\n",
       "      <td>...</td>\n",
       "      <td>4</td>\n",
       "      <td>0.152255</td>\n",
       "      <td>-0.815775</td>\n",
       "      <td>0.386409</td>\n",
       "      <td>0.23016</td>\n",
       "      <td>0.028028</td>\n",
       "      <td>-0.333373</td>\n",
       "      <td>0.015452</td>\n",
       "      <td>-0.35359</td>\n",
       "      <td>0.205826</td>\n",
       "    </tr>\n",
       "    <tr>\n",
       "      <th>1</th>\n",
       "      <td>0_00079a23-1600-486a-91bd-5208be0c745a</td>\n",
       "      <td>7</td>\n",
       "      <td>12</td>\n",
       "      <td>t_0479f24c-27d2-46d6-a00c-7ec928f2b539</td>\n",
       "      <td>False</td>\n",
       "      <td>False</td>\n",
       "      <td>True</td>\n",
       "      <td>False</td>\n",
       "      <td>0</td>\n",
       "      <td>0</td>\n",
       "      <td>...</td>\n",
       "      <td>4</td>\n",
       "      <td>0.152255</td>\n",
       "      <td>-0.815775</td>\n",
       "      <td>0.386409</td>\n",
       "      <td>0.23016</td>\n",
       "      <td>0.028028</td>\n",
       "      <td>-0.333373</td>\n",
       "      <td>0.015452</td>\n",
       "      <td>-0.35359</td>\n",
       "      <td>0.205826</td>\n",
       "    </tr>\n",
       "    <tr>\n",
       "      <th>2</th>\n",
       "      <td>0_012b0fb4-0cc3-429f-9a78-cc6e622153fb</td>\n",
       "      <td>6</td>\n",
       "      <td>20</td>\n",
       "      <td>t_0479f24c-27d2-46d6-a00c-7ec928f2b539</td>\n",
       "      <td>False</td>\n",
       "      <td>False</td>\n",
       "      <td>False</td>\n",
       "      <td>True</td>\n",
       "      <td>0</td>\n",
       "      <td>0</td>\n",
       "      <td>...</td>\n",
       "      <td>4</td>\n",
       "      <td>0.152255</td>\n",
       "      <td>-0.815775</td>\n",
       "      <td>0.386409</td>\n",
       "      <td>0.23016</td>\n",
       "      <td>0.028028</td>\n",
       "      <td>-0.333373</td>\n",
       "      <td>0.015452</td>\n",
       "      <td>-0.35359</td>\n",
       "      <td>0.205826</td>\n",
       "    </tr>\n",
       "    <tr>\n",
       "      <th>3</th>\n",
       "      <td>0_013cc010-c476-4ad2-8972-73449e0b2ef4</td>\n",
       "      <td>9</td>\n",
       "      <td>13</td>\n",
       "      <td>t_0479f24c-27d2-46d6-a00c-7ec928f2b539</td>\n",
       "      <td>False</td>\n",
       "      <td>False</td>\n",
       "      <td>False</td>\n",
       "      <td>True</td>\n",
       "      <td>0</td>\n",
       "      <td>1</td>\n",
       "      <td>...</td>\n",
       "      <td>4</td>\n",
       "      <td>0.152255</td>\n",
       "      <td>-0.815775</td>\n",
       "      <td>0.386409</td>\n",
       "      <td>0.23016</td>\n",
       "      <td>0.028028</td>\n",
       "      <td>-0.333373</td>\n",
       "      <td>0.015452</td>\n",
       "      <td>-0.35359</td>\n",
       "      <td>0.205826</td>\n",
       "    </tr>\n",
       "    <tr>\n",
       "      <th>4</th>\n",
       "      <td>0_01a5f0dc-9938-48c9-92f1-c7e51f34d290</td>\n",
       "      <td>7</td>\n",
       "      <td>12</td>\n",
       "      <td>t_0479f24c-27d2-46d6-a00c-7ec928f2b539</td>\n",
       "      <td>False</td>\n",
       "      <td>False</td>\n",
       "      <td>True</td>\n",
       "      <td>False</td>\n",
       "      <td>0</td>\n",
       "      <td>0</td>\n",
       "      <td>...</td>\n",
       "      <td>4</td>\n",
       "      <td>0.152255</td>\n",
       "      <td>-0.815775</td>\n",
       "      <td>0.386409</td>\n",
       "      <td>0.23016</td>\n",
       "      <td>0.028028</td>\n",
       "      <td>-0.333373</td>\n",
       "      <td>0.015452</td>\n",
       "      <td>-0.35359</td>\n",
       "      <td>0.205826</td>\n",
       "    </tr>\n",
       "  </tbody>\n",
       "</table>\n",
       "<p>5 rows × 50 columns</p>\n",
       "</div>"
      ],
      "text/plain": [
       "                               session_id  session_position  session_length  \\\n",
       "0  0_00006f66-33e5-4de7-a324-2d18e439fc1e                 1              20   \n",
       "1  0_00079a23-1600-486a-91bd-5208be0c745a                 7              12   \n",
       "2  0_012b0fb4-0cc3-429f-9a78-cc6e622153fb                 6              20   \n",
       "3  0_013cc010-c476-4ad2-8972-73449e0b2ef4                 9              13   \n",
       "4  0_01a5f0dc-9938-48c9-92f1-c7e51f34d290                 7              12   \n",
       "\n",
       "                                 track_id  skip_1  skip_2  skip_3  \\\n",
       "0  t_0479f24c-27d2-46d6-a00c-7ec928f2b539   False   False   False   \n",
       "1  t_0479f24c-27d2-46d6-a00c-7ec928f2b539   False   False    True   \n",
       "2  t_0479f24c-27d2-46d6-a00c-7ec928f2b539   False   False   False   \n",
       "3  t_0479f24c-27d2-46d6-a00c-7ec928f2b539   False   False   False   \n",
       "4  t_0479f24c-27d2-46d6-a00c-7ec928f2b539   False   False    True   \n",
       "\n",
       "   not_skipped  context_switch  no_pause_before_play  ...  time_signature  \\\n",
       "0         True               0                     0  ...               4   \n",
       "1        False               0                     0  ...               4   \n",
       "2         True               0                     0  ...               4   \n",
       "3         True               0                     1  ...               4   \n",
       "4        False               0                     0  ...               4   \n",
       "\n",
       "    valence  acoustic_vector_0  acoustic_vector_1  acoustic_vector_2  \\\n",
       "0  0.152255          -0.815775           0.386409            0.23016   \n",
       "1  0.152255          -0.815775           0.386409            0.23016   \n",
       "2  0.152255          -0.815775           0.386409            0.23016   \n",
       "3  0.152255          -0.815775           0.386409            0.23016   \n",
       "4  0.152255          -0.815775           0.386409            0.23016   \n",
       "\n",
       "   acoustic_vector_3 acoustic_vector_4  acoustic_vector_5 acoustic_vector_6  \\\n",
       "0           0.028028         -0.333373           0.015452          -0.35359   \n",
       "1           0.028028         -0.333373           0.015452          -0.35359   \n",
       "2           0.028028         -0.333373           0.015452          -0.35359   \n",
       "3           0.028028         -0.333373           0.015452          -0.35359   \n",
       "4           0.028028         -0.333373           0.015452          -0.35359   \n",
       "\n",
       "  acoustic_vector_7  \n",
       "0          0.205826  \n",
       "1          0.205826  \n",
       "2          0.205826  \n",
       "3          0.205826  \n",
       "4          0.205826  \n",
       "\n",
       "[5 rows x 50 columns]"
      ]
     },
     "execution_count": 15,
     "metadata": {},
     "output_type": "execute_result"
    }
   ],
   "source": [
    "dataset.head()"
   ]
  },
  {
   "cell_type": "code",
   "execution_count": 16,
   "metadata": {},
   "outputs": [
    {
     "data": {
      "text/plain": [
       "(167880, 50)"
      ]
     },
     "execution_count": 16,
     "metadata": {},
     "output_type": "execute_result"
    }
   ],
   "source": [
    "dataset.shape"
   ]
  },
  {
   "cell_type": "markdown",
   "metadata": {},
   "source": [
    "### For better understanding of our dataset, we can display all the columns."
   ]
  },
  {
   "cell_type": "code",
   "execution_count": 17,
   "metadata": {},
   "outputs": [],
   "source": [
    "pd.set_option('display.max_columns',50)"
   ]
  },
  {
   "cell_type": "code",
   "execution_count": 18,
   "metadata": {},
   "outputs": [
    {
     "data": {
      "text/html": [
       "<div>\n",
       "<style scoped>\n",
       "    .dataframe tbody tr th:only-of-type {\n",
       "        vertical-align: middle;\n",
       "    }\n",
       "\n",
       "    .dataframe tbody tr th {\n",
       "        vertical-align: top;\n",
       "    }\n",
       "\n",
       "    .dataframe thead th {\n",
       "        text-align: right;\n",
       "    }\n",
       "</style>\n",
       "<table border=\"1\" class=\"dataframe\">\n",
       "  <thead>\n",
       "    <tr style=\"text-align: right;\">\n",
       "      <th></th>\n",
       "      <th>session_id</th>\n",
       "      <th>session_position</th>\n",
       "      <th>session_length</th>\n",
       "      <th>track_id</th>\n",
       "      <th>skip_1</th>\n",
       "      <th>skip_2</th>\n",
       "      <th>skip_3</th>\n",
       "      <th>not_skipped</th>\n",
       "      <th>context_switch</th>\n",
       "      <th>no_pause_before_play</th>\n",
       "      <th>short_pause_before_play</th>\n",
       "      <th>long_pause_before_play</th>\n",
       "      <th>hist_user_behavior_n_seekfwd</th>\n",
       "      <th>hist_user_behavior_n_seekback</th>\n",
       "      <th>hist_user_behavior_is_shuffle</th>\n",
       "      <th>hour_of_day</th>\n",
       "      <th>date</th>\n",
       "      <th>premium</th>\n",
       "      <th>context_type</th>\n",
       "      <th>hist_user_behavior_reason_start</th>\n",
       "      <th>hist_user_behavior_reason_end</th>\n",
       "      <th>duration</th>\n",
       "      <th>release_year</th>\n",
       "      <th>us_popularity_estimate</th>\n",
       "      <th>acousticness</th>\n",
       "      <th>beat_strength</th>\n",
       "      <th>bounciness</th>\n",
       "      <th>danceability</th>\n",
       "      <th>dyn_range_mean</th>\n",
       "      <th>energy</th>\n",
       "      <th>flatness</th>\n",
       "      <th>instrumentalness</th>\n",
       "      <th>key</th>\n",
       "      <th>liveness</th>\n",
       "      <th>loudness</th>\n",
       "      <th>mechanism</th>\n",
       "      <th>mode</th>\n",
       "      <th>organism</th>\n",
       "      <th>speechiness</th>\n",
       "      <th>tempo</th>\n",
       "      <th>time_signature</th>\n",
       "      <th>valence</th>\n",
       "      <th>acoustic_vector_0</th>\n",
       "      <th>acoustic_vector_1</th>\n",
       "      <th>acoustic_vector_2</th>\n",
       "      <th>acoustic_vector_3</th>\n",
       "      <th>acoustic_vector_4</th>\n",
       "      <th>acoustic_vector_5</th>\n",
       "      <th>acoustic_vector_6</th>\n",
       "      <th>acoustic_vector_7</th>\n",
       "    </tr>\n",
       "  </thead>\n",
       "  <tbody>\n",
       "    <tr>\n",
       "      <th>0</th>\n",
       "      <td>0_00006f66-33e5-4de7-a324-2d18e439fc1e</td>\n",
       "      <td>1</td>\n",
       "      <td>20</td>\n",
       "      <td>t_0479f24c-27d2-46d6-a00c-7ec928f2b539</td>\n",
       "      <td>False</td>\n",
       "      <td>False</td>\n",
       "      <td>False</td>\n",
       "      <td>True</td>\n",
       "      <td>0</td>\n",
       "      <td>0</td>\n",
       "      <td>0</td>\n",
       "      <td>0</td>\n",
       "      <td>0</td>\n",
       "      <td>0</td>\n",
       "      <td>True</td>\n",
       "      <td>16</td>\n",
       "      <td>2018-07-15</td>\n",
       "      <td>True</td>\n",
       "      <td>editorial_playlist</td>\n",
       "      <td>trackdone</td>\n",
       "      <td>trackdone</td>\n",
       "      <td>180.066666</td>\n",
       "      <td>2018</td>\n",
       "      <td>99.968133</td>\n",
       "      <td>0.015848</td>\n",
       "      <td>0.438551</td>\n",
       "      <td>0.473455</td>\n",
       "      <td>0.653119</td>\n",
       "      <td>7.660024</td>\n",
       "      <td>0.553465</td>\n",
       "      <td>1.035007</td>\n",
       "      <td>0.003484</td>\n",
       "      <td>1</td>\n",
       "      <td>0.678553</td>\n",
       "      <td>-6.577</td>\n",
       "      <td>0.546784</td>\n",
       "      <td>major</td>\n",
       "      <td>0.320668</td>\n",
       "      <td>0.069717</td>\n",
       "      <td>134.024994</td>\n",
       "      <td>4</td>\n",
       "      <td>0.152255</td>\n",
       "      <td>-0.815775</td>\n",
       "      <td>0.386409</td>\n",
       "      <td>0.23016</td>\n",
       "      <td>0.028028</td>\n",
       "      <td>-0.333373</td>\n",
       "      <td>0.015452</td>\n",
       "      <td>-0.35359</td>\n",
       "      <td>0.205826</td>\n",
       "    </tr>\n",
       "    <tr>\n",
       "      <th>1</th>\n",
       "      <td>0_00079a23-1600-486a-91bd-5208be0c745a</td>\n",
       "      <td>7</td>\n",
       "      <td>12</td>\n",
       "      <td>t_0479f24c-27d2-46d6-a00c-7ec928f2b539</td>\n",
       "      <td>False</td>\n",
       "      <td>False</td>\n",
       "      <td>True</td>\n",
       "      <td>False</td>\n",
       "      <td>0</td>\n",
       "      <td>0</td>\n",
       "      <td>1</td>\n",
       "      <td>1</td>\n",
       "      <td>0</td>\n",
       "      <td>0</td>\n",
       "      <td>False</td>\n",
       "      <td>17</td>\n",
       "      <td>2018-07-15</td>\n",
       "      <td>True</td>\n",
       "      <td>editorial_playlist</td>\n",
       "      <td>fwdbtn</td>\n",
       "      <td>endplay</td>\n",
       "      <td>180.066666</td>\n",
       "      <td>2018</td>\n",
       "      <td>99.968133</td>\n",
       "      <td>0.015848</td>\n",
       "      <td>0.438551</td>\n",
       "      <td>0.473455</td>\n",
       "      <td>0.653119</td>\n",
       "      <td>7.660024</td>\n",
       "      <td>0.553465</td>\n",
       "      <td>1.035007</td>\n",
       "      <td>0.003484</td>\n",
       "      <td>1</td>\n",
       "      <td>0.678553</td>\n",
       "      <td>-6.577</td>\n",
       "      <td>0.546784</td>\n",
       "      <td>major</td>\n",
       "      <td>0.320668</td>\n",
       "      <td>0.069717</td>\n",
       "      <td>134.024994</td>\n",
       "      <td>4</td>\n",
       "      <td>0.152255</td>\n",
       "      <td>-0.815775</td>\n",
       "      <td>0.386409</td>\n",
       "      <td>0.23016</td>\n",
       "      <td>0.028028</td>\n",
       "      <td>-0.333373</td>\n",
       "      <td>0.015452</td>\n",
       "      <td>-0.35359</td>\n",
       "      <td>0.205826</td>\n",
       "    </tr>\n",
       "    <tr>\n",
       "      <th>2</th>\n",
       "      <td>0_012b0fb4-0cc3-429f-9a78-cc6e622153fb</td>\n",
       "      <td>6</td>\n",
       "      <td>20</td>\n",
       "      <td>t_0479f24c-27d2-46d6-a00c-7ec928f2b539</td>\n",
       "      <td>False</td>\n",
       "      <td>False</td>\n",
       "      <td>False</td>\n",
       "      <td>True</td>\n",
       "      <td>0</td>\n",
       "      <td>0</td>\n",
       "      <td>1</td>\n",
       "      <td>1</td>\n",
       "      <td>0</td>\n",
       "      <td>0</td>\n",
       "      <td>False</td>\n",
       "      <td>21</td>\n",
       "      <td>2018-07-14</td>\n",
       "      <td>True</td>\n",
       "      <td>user_collection</td>\n",
       "      <td>trackdone</td>\n",
       "      <td>trackdone</td>\n",
       "      <td>180.066666</td>\n",
       "      <td>2018</td>\n",
       "      <td>99.968133</td>\n",
       "      <td>0.015848</td>\n",
       "      <td>0.438551</td>\n",
       "      <td>0.473455</td>\n",
       "      <td>0.653119</td>\n",
       "      <td>7.660024</td>\n",
       "      <td>0.553465</td>\n",
       "      <td>1.035007</td>\n",
       "      <td>0.003484</td>\n",
       "      <td>1</td>\n",
       "      <td>0.678553</td>\n",
       "      <td>-6.577</td>\n",
       "      <td>0.546784</td>\n",
       "      <td>major</td>\n",
       "      <td>0.320668</td>\n",
       "      <td>0.069717</td>\n",
       "      <td>134.024994</td>\n",
       "      <td>4</td>\n",
       "      <td>0.152255</td>\n",
       "      <td>-0.815775</td>\n",
       "      <td>0.386409</td>\n",
       "      <td>0.23016</td>\n",
       "      <td>0.028028</td>\n",
       "      <td>-0.333373</td>\n",
       "      <td>0.015452</td>\n",
       "      <td>-0.35359</td>\n",
       "      <td>0.205826</td>\n",
       "    </tr>\n",
       "    <tr>\n",
       "      <th>3</th>\n",
       "      <td>0_013cc010-c476-4ad2-8972-73449e0b2ef4</td>\n",
       "      <td>9</td>\n",
       "      <td>13</td>\n",
       "      <td>t_0479f24c-27d2-46d6-a00c-7ec928f2b539</td>\n",
       "      <td>False</td>\n",
       "      <td>False</td>\n",
       "      <td>False</td>\n",
       "      <td>True</td>\n",
       "      <td>0</td>\n",
       "      <td>1</td>\n",
       "      <td>0</td>\n",
       "      <td>0</td>\n",
       "      <td>0</td>\n",
       "      <td>0</td>\n",
       "      <td>False</td>\n",
       "      <td>18</td>\n",
       "      <td>2018-07-15</td>\n",
       "      <td>True</td>\n",
       "      <td>editorial_playlist</td>\n",
       "      <td>fwdbtn</td>\n",
       "      <td>trackdone</td>\n",
       "      <td>180.066666</td>\n",
       "      <td>2018</td>\n",
       "      <td>99.968133</td>\n",
       "      <td>0.015848</td>\n",
       "      <td>0.438551</td>\n",
       "      <td>0.473455</td>\n",
       "      <td>0.653119</td>\n",
       "      <td>7.660024</td>\n",
       "      <td>0.553465</td>\n",
       "      <td>1.035007</td>\n",
       "      <td>0.003484</td>\n",
       "      <td>1</td>\n",
       "      <td>0.678553</td>\n",
       "      <td>-6.577</td>\n",
       "      <td>0.546784</td>\n",
       "      <td>major</td>\n",
       "      <td>0.320668</td>\n",
       "      <td>0.069717</td>\n",
       "      <td>134.024994</td>\n",
       "      <td>4</td>\n",
       "      <td>0.152255</td>\n",
       "      <td>-0.815775</td>\n",
       "      <td>0.386409</td>\n",
       "      <td>0.23016</td>\n",
       "      <td>0.028028</td>\n",
       "      <td>-0.333373</td>\n",
       "      <td>0.015452</td>\n",
       "      <td>-0.35359</td>\n",
       "      <td>0.205826</td>\n",
       "    </tr>\n",
       "    <tr>\n",
       "      <th>4</th>\n",
       "      <td>0_01a5f0dc-9938-48c9-92f1-c7e51f34d290</td>\n",
       "      <td>7</td>\n",
       "      <td>12</td>\n",
       "      <td>t_0479f24c-27d2-46d6-a00c-7ec928f2b539</td>\n",
       "      <td>False</td>\n",
       "      <td>False</td>\n",
       "      <td>True</td>\n",
       "      <td>False</td>\n",
       "      <td>0</td>\n",
       "      <td>0</td>\n",
       "      <td>1</td>\n",
       "      <td>1</td>\n",
       "      <td>0</td>\n",
       "      <td>0</td>\n",
       "      <td>True</td>\n",
       "      <td>19</td>\n",
       "      <td>2018-07-14</td>\n",
       "      <td>False</td>\n",
       "      <td>editorial_playlist</td>\n",
       "      <td>trackdone</td>\n",
       "      <td>fwdbtn</td>\n",
       "      <td>180.066666</td>\n",
       "      <td>2018</td>\n",
       "      <td>99.968133</td>\n",
       "      <td>0.015848</td>\n",
       "      <td>0.438551</td>\n",
       "      <td>0.473455</td>\n",
       "      <td>0.653119</td>\n",
       "      <td>7.660024</td>\n",
       "      <td>0.553465</td>\n",
       "      <td>1.035007</td>\n",
       "      <td>0.003484</td>\n",
       "      <td>1</td>\n",
       "      <td>0.678553</td>\n",
       "      <td>-6.577</td>\n",
       "      <td>0.546784</td>\n",
       "      <td>major</td>\n",
       "      <td>0.320668</td>\n",
       "      <td>0.069717</td>\n",
       "      <td>134.024994</td>\n",
       "      <td>4</td>\n",
       "      <td>0.152255</td>\n",
       "      <td>-0.815775</td>\n",
       "      <td>0.386409</td>\n",
       "      <td>0.23016</td>\n",
       "      <td>0.028028</td>\n",
       "      <td>-0.333373</td>\n",
       "      <td>0.015452</td>\n",
       "      <td>-0.35359</td>\n",
       "      <td>0.205826</td>\n",
       "    </tr>\n",
       "  </tbody>\n",
       "</table>\n",
       "</div>"
      ],
      "text/plain": [
       "                               session_id  session_position  session_length  \\\n",
       "0  0_00006f66-33e5-4de7-a324-2d18e439fc1e                 1              20   \n",
       "1  0_00079a23-1600-486a-91bd-5208be0c745a                 7              12   \n",
       "2  0_012b0fb4-0cc3-429f-9a78-cc6e622153fb                 6              20   \n",
       "3  0_013cc010-c476-4ad2-8972-73449e0b2ef4                 9              13   \n",
       "4  0_01a5f0dc-9938-48c9-92f1-c7e51f34d290                 7              12   \n",
       "\n",
       "                                 track_id  skip_1  skip_2  skip_3  \\\n",
       "0  t_0479f24c-27d2-46d6-a00c-7ec928f2b539   False   False   False   \n",
       "1  t_0479f24c-27d2-46d6-a00c-7ec928f2b539   False   False    True   \n",
       "2  t_0479f24c-27d2-46d6-a00c-7ec928f2b539   False   False   False   \n",
       "3  t_0479f24c-27d2-46d6-a00c-7ec928f2b539   False   False   False   \n",
       "4  t_0479f24c-27d2-46d6-a00c-7ec928f2b539   False   False    True   \n",
       "\n",
       "   not_skipped  context_switch  no_pause_before_play  short_pause_before_play  \\\n",
       "0         True               0                     0                        0   \n",
       "1        False               0                     0                        1   \n",
       "2         True               0                     0                        1   \n",
       "3         True               0                     1                        0   \n",
       "4        False               0                     0                        1   \n",
       "\n",
       "   long_pause_before_play  hist_user_behavior_n_seekfwd  \\\n",
       "0                       0                             0   \n",
       "1                       1                             0   \n",
       "2                       1                             0   \n",
       "3                       0                             0   \n",
       "4                       1                             0   \n",
       "\n",
       "   hist_user_behavior_n_seekback  hist_user_behavior_is_shuffle  hour_of_day  \\\n",
       "0                              0                           True           16   \n",
       "1                              0                          False           17   \n",
       "2                              0                          False           21   \n",
       "3                              0                          False           18   \n",
       "4                              0                           True           19   \n",
       "\n",
       "         date  premium        context_type hist_user_behavior_reason_start  \\\n",
       "0  2018-07-15     True  editorial_playlist                       trackdone   \n",
       "1  2018-07-15     True  editorial_playlist                          fwdbtn   \n",
       "2  2018-07-14     True     user_collection                       trackdone   \n",
       "3  2018-07-15     True  editorial_playlist                          fwdbtn   \n",
       "4  2018-07-14    False  editorial_playlist                       trackdone   \n",
       "\n",
       "  hist_user_behavior_reason_end    duration  release_year  \\\n",
       "0                     trackdone  180.066666          2018   \n",
       "1                       endplay  180.066666          2018   \n",
       "2                     trackdone  180.066666          2018   \n",
       "3                     trackdone  180.066666          2018   \n",
       "4                        fwdbtn  180.066666          2018   \n",
       "\n",
       "   us_popularity_estimate  acousticness  beat_strength  bounciness  \\\n",
       "0               99.968133      0.015848       0.438551    0.473455   \n",
       "1               99.968133      0.015848       0.438551    0.473455   \n",
       "2               99.968133      0.015848       0.438551    0.473455   \n",
       "3               99.968133      0.015848       0.438551    0.473455   \n",
       "4               99.968133      0.015848       0.438551    0.473455   \n",
       "\n",
       "   danceability  dyn_range_mean    energy  flatness  instrumentalness  key  \\\n",
       "0      0.653119        7.660024  0.553465  1.035007          0.003484    1   \n",
       "1      0.653119        7.660024  0.553465  1.035007          0.003484    1   \n",
       "2      0.653119        7.660024  0.553465  1.035007          0.003484    1   \n",
       "3      0.653119        7.660024  0.553465  1.035007          0.003484    1   \n",
       "4      0.653119        7.660024  0.553465  1.035007          0.003484    1   \n",
       "\n",
       "   liveness  loudness  mechanism   mode  organism  speechiness       tempo  \\\n",
       "0  0.678553    -6.577   0.546784  major  0.320668     0.069717  134.024994   \n",
       "1  0.678553    -6.577   0.546784  major  0.320668     0.069717  134.024994   \n",
       "2  0.678553    -6.577   0.546784  major  0.320668     0.069717  134.024994   \n",
       "3  0.678553    -6.577   0.546784  major  0.320668     0.069717  134.024994   \n",
       "4  0.678553    -6.577   0.546784  major  0.320668     0.069717  134.024994   \n",
       "\n",
       "   time_signature   valence  acoustic_vector_0  acoustic_vector_1  \\\n",
       "0               4  0.152255          -0.815775           0.386409   \n",
       "1               4  0.152255          -0.815775           0.386409   \n",
       "2               4  0.152255          -0.815775           0.386409   \n",
       "3               4  0.152255          -0.815775           0.386409   \n",
       "4               4  0.152255          -0.815775           0.386409   \n",
       "\n",
       "   acoustic_vector_2  acoustic_vector_3  acoustic_vector_4  acoustic_vector_5  \\\n",
       "0            0.23016           0.028028          -0.333373           0.015452   \n",
       "1            0.23016           0.028028          -0.333373           0.015452   \n",
       "2            0.23016           0.028028          -0.333373           0.015452   \n",
       "3            0.23016           0.028028          -0.333373           0.015452   \n",
       "4            0.23016           0.028028          -0.333373           0.015452   \n",
       "\n",
       "   acoustic_vector_6  acoustic_vector_7  \n",
       "0           -0.35359           0.205826  \n",
       "1           -0.35359           0.205826  \n",
       "2           -0.35359           0.205826  \n",
       "3           -0.35359           0.205826  \n",
       "4           -0.35359           0.205826  "
      ]
     },
     "execution_count": 18,
     "metadata": {},
     "output_type": "execute_result"
    }
   ],
   "source": [
    "dataset.head()"
   ]
  },
  {
   "cell_type": "code",
   "execution_count": 19,
   "metadata": {},
   "outputs": [
    {
     "data": {
      "text/plain": [
       "session_id                         0\n",
       "session_position                   0\n",
       "session_length                     0\n",
       "track_id                           0\n",
       "skip_1                             0\n",
       "skip_2                             0\n",
       "skip_3                             0\n",
       "not_skipped                        0\n",
       "context_switch                     0\n",
       "no_pause_before_play               0\n",
       "short_pause_before_play            0\n",
       "long_pause_before_play             0\n",
       "hist_user_behavior_n_seekfwd       0\n",
       "hist_user_behavior_n_seekback      0\n",
       "hist_user_behavior_is_shuffle      0\n",
       "hour_of_day                        0\n",
       "date                               0\n",
       "premium                            0\n",
       "context_type                       0\n",
       "hist_user_behavior_reason_start    0\n",
       "hist_user_behavior_reason_end      0\n",
       "duration                           0\n",
       "release_year                       0\n",
       "us_popularity_estimate             0\n",
       "acousticness                       0\n",
       "beat_strength                      0\n",
       "bounciness                         0\n",
       "danceability                       0\n",
       "dyn_range_mean                     0\n",
       "energy                             0\n",
       "flatness                           0\n",
       "instrumentalness                   0\n",
       "key                                0\n",
       "liveness                           0\n",
       "loudness                           0\n",
       "mechanism                          0\n",
       "mode                               0\n",
       "organism                           0\n",
       "speechiness                        0\n",
       "tempo                              0\n",
       "time_signature                     0\n",
       "valence                            0\n",
       "acoustic_vector_0                  0\n",
       "acoustic_vector_1                  0\n",
       "acoustic_vector_2                  0\n",
       "acoustic_vector_3                  0\n",
       "acoustic_vector_4                  0\n",
       "acoustic_vector_5                  0\n",
       "acoustic_vector_6                  0\n",
       "acoustic_vector_7                  0\n",
       "dtype: int64"
      ]
     },
     "execution_count": 19,
     "metadata": {},
     "output_type": "execute_result"
    }
   ],
   "source": [
    "dataset.isnull().sum()"
   ]
  },
  {
   "cell_type": "code",
   "execution_count": 20,
   "metadata": {},
   "outputs": [],
   "source": [
    "dataset = dataset[['skip_2','session_position',\"context_switch\",'no_pause_before_play','hist_user_behavior_n_seekfwd',\"hist_user_behavior_n_seekback\",\"hist_user_behavior_is_shuffle\",\"hour_of_day\",\"context_type\",\"hist_user_behavior_reason_start\",\"hist_user_behavior_reason_end\",\"danceability\",\"energy\",\"key\",'loudness',\"mode\",\"speechiness\",\"instrumentalness\",\"liveness\",'valence','tempo',\"duration\",\"time_signature\"]]"
   ]
  },
  {
   "cell_type": "code",
   "execution_count": 21,
   "metadata": {},
   "outputs": [
    {
     "data": {
      "text/plain": [
       "skip_2                                bool\n",
       "session_position                     int64\n",
       "context_switch                       int64\n",
       "no_pause_before_play                 int64\n",
       "hist_user_behavior_n_seekfwd         int64\n",
       "hist_user_behavior_n_seekback        int64\n",
       "hist_user_behavior_is_shuffle         bool\n",
       "hour_of_day                          int64\n",
       "context_type                        object\n",
       "hist_user_behavior_reason_start     object\n",
       "hist_user_behavior_reason_end       object\n",
       "danceability                       float64\n",
       "energy                             float64\n",
       "key                                  int64\n",
       "loudness                           float64\n",
       "mode                                object\n",
       "speechiness                        float64\n",
       "instrumentalness                   float64\n",
       "liveness                           float64\n",
       "valence                            float64\n",
       "tempo                              float64\n",
       "duration                           float64\n",
       "time_signature                       int64\n",
       "dtype: object"
      ]
     },
     "execution_count": 21,
     "metadata": {},
     "output_type": "execute_result"
    }
   ],
   "source": [
    "dataset.dtypes"
   ]
  },
  {
   "cell_type": "code",
   "execution_count": 22,
   "metadata": {},
   "outputs": [],
   "source": [
    "#Function to extract categoricals and numerticals columns from our dataset\n",
    "def extract_cat_num(df):\n",
    "    cat_col = [col for col in df.columns if df[col].dtype=='object']\n",
    "    num_col = [col for col in df.columns if df[col].dtype!='object']\n",
    "    return cat_col,num_col"
   ]
  },
  {
   "cell_type": "code",
   "execution_count": 23,
   "metadata": {},
   "outputs": [],
   "source": [
    "cat_col, num_col = extract_cat_num(dataset)"
   ]
  },
  {
   "cell_type": "code",
   "execution_count": 24,
   "metadata": {},
   "outputs": [
    {
     "data": {
      "text/plain": [
       "['context_type',\n",
       " 'hist_user_behavior_reason_start',\n",
       " 'hist_user_behavior_reason_end',\n",
       " 'mode']"
      ]
     },
     "execution_count": 24,
     "metadata": {},
     "output_type": "execute_result"
    }
   ],
   "source": [
    "cat_col"
   ]
  },
  {
   "cell_type": "code",
   "execution_count": 70,
   "metadata": {},
   "outputs": [
    {
     "data": {
      "text/plain": [
       "['skip_2',\n",
       " 'session_position',\n",
       " 'context_switch',\n",
       " 'no_pause_before_play',\n",
       " 'hist_user_behavior_n_seekfwd',\n",
       " 'hist_user_behavior_n_seekback',\n",
       " 'hist_user_behavior_is_shuffle',\n",
       " 'hour_of_day',\n",
       " 'danceability',\n",
       " 'energy',\n",
       " 'key',\n",
       " 'loudness',\n",
       " 'speechiness',\n",
       " 'instrumentalness',\n",
       " 'liveness',\n",
       " 'valence',\n",
       " 'tempo',\n",
       " 'duration',\n",
       " 'time_signature']"
      ]
     },
     "execution_count": 70,
     "metadata": {},
     "output_type": "execute_result"
    }
   ],
   "source": [
    "num_col"
   ]
  },
  {
   "cell_type": "code",
   "execution_count": 25,
   "metadata": {},
   "outputs": [],
   "source": [
    "dataset_cat = dataset[cat_col] # Dataset containing all our categorical columns.\n",
    "dataset_num = dataset[num_col] # Dataset containing all our numerical columns."
   ]
  },
  {
   "cell_type": "markdown",
   "metadata": {},
   "source": [
    "### Display the differents values for each categorical column"
   ]
  },
  {
   "cell_type": "code",
   "execution_count": 26,
   "metadata": {},
   "outputs": [
    {
     "name": "stdout",
     "output_type": "stream",
     "text": [
      "context_type has ['editorial_playlist' 'user_collection' 'catalog' 'radio' 'charts'\n",
      " 'personalized_playlist'] values\n",
      "\n",
      "\n",
      "hist_user_behavior_reason_start has ['trackdone' 'fwdbtn' 'appload' 'playbtn' 'clickrow' 'backbtn' 'remote'\n",
      " 'endplay' 'trackerror'] values\n",
      "\n",
      "\n",
      "hist_user_behavior_reason_end has ['trackdone' 'endplay' 'fwdbtn' 'backbtn' 'remote' 'logout' 'clickrow'] values\n",
      "\n",
      "\n",
      "mode has ['major' 'minor'] values\n",
      "\n",
      "\n"
     ]
    }
   ],
   "source": [
    "for col in cat_col:\n",
    "    print('{} has {} values'.format(col,dataset[col].unique()))\n",
    "    print('\\n')"
   ]
  },
  {
   "cell_type": "markdown",
   "metadata": {},
   "source": [
    "### Correlation between features"
   ]
  },
  {
   "cell_type": "code",
   "execution_count": 27,
   "metadata": {},
   "outputs": [
    {
     "data": {
      "text/plain": [
       "<matplotlib.axes._subplots.AxesSubplot at 0x1fc51582788>"
      ]
     },
     "execution_count": 27,
     "metadata": {},
     "output_type": "execute_result"
    },
    {
     "data": {
      "image/png": "[encoded data removed]",
      "text/plain": [
       "<Figure size 4320x4320 with 2 Axes>"
      ]
     },
     "metadata": {
      "needs_background": "light"
     },
     "output_type": "display_data"
    }
   ],
   "source": [
    "plt.figure(figsize=(60,60))\n",
    "sns.heatmap(dataset.corr(),annot=True)"
   ]
  },
  {
   "cell_type": "markdown",
   "metadata": {},
   "source": [
    "For better visualization, we can zoom our heatmap."
   ]
  },
  {
   "cell_type": "code",
   "execution_count": 33,
   "metadata": {},
   "outputs": [
    {
     "name": "stdout",
     "output_type": "stream",
     "text": [
      "Requirement already satisfied: plotly in c:\\users\\lenovo\\anaconda3\\lib\\site-packages (5.1.0)\n",
      "Requirement already satisfied: six in c:\\users\\lenovo\\anaconda3\\lib\\site-packages (from plotly) (1.12.0)\n",
      "Requirement already satisfied: tenacity>=6.2.0 in c:\\users\\lenovo\\anaconda3\\lib\\site-packages (from plotly) (8.0.1)\n"
     ]
    }
   ],
   "source": [
    "!pip install plotly"
   ]
  },
  {
   "cell_type": "code",
   "execution_count": 28,
   "metadata": {},
   "outputs": [],
   "source": [
    "import plotly.express as px\n",
    "import plotly.graph_objs as go\n",
    "from plotly.offline import iplot"
   ]
  },
  {
   "cell_type": "code",
   "execution_count": 29,
   "metadata": {},
   "outputs": [
    {
     "data": {
      "application/vnd.plotly.v1+json": {
       "config": {
        "linkText": "Export to plot.ly",
        "plotlyServerURL": "https://plot.ly",
        "showLink": false
       },
       "data": [
        {
         "type": "bar",
         "x": [
          "skip_2",
          "session_position",
          "context_switch",
          "no_pause_before_play",
          "hist_user_behavior_n_seekfwd",
          "hist_user_behavior_n_seekback",
          "hist_user_behavior_is_shuffle",
          "hour_of_day",
          "danceability",
          "energy",
          "key",
          "loudness",
          "speechiness",
          "instrumentalness",
          "liveness",
          "valence",
          "tempo",
          "duration",
          "time_signature"
         ],
         "y": [
          1,
          0.040009567423337444,
          -0.07363173219187101,
          0.10517967958264998,
          0.003952529397659719,
          -0.03693503916164942,
          0.048835511179829726,
          0.009774136566306291,
          0.004638245947772281,
          0.00643820348706837,
          0.00200225491342955,
          0.0067896985004667005,
          0.019806551835573793,
          -0.012766578582616596,
          0.004030141553191693,
          -0.000653478627445898,
          0.005414485922151307,
          0.019314106083482382,
          0.0075465563754176885
         ]
        }
       ],
       "layout": {
        "template": {
         "data": {
          "bar": [
           {
            "error_x": {
             "color": "#2a3f5f"
            },
            "error_y": {
             "color": "#2a3f5f"
            },
            "marker": {
             "line": {
              "color": "#E5ECF6",
              "width": 0.5
             },
             "pattern": {
              "fillmode": "overlay",
              "size": 10,
              "solidity": 0.2
             }
            },
            "type": "bar"
           }
          ],
          "barpolar": [
           {
            "marker": {
             "line": {
              "color": "#E5ECF6",
              "width": 0.5
             },
             "pattern": {
              "fillmode": "overlay",
              "size": 10,
              "solidity": 0.2
             }
            },
            "type": "barpolar"
           }
          ],
          "carpet": [
           {
            "aaxis": {
             "endlinecolor": "#2a3f5f",
             "gridcolor": "white",
             "linecolor": "white",
             "minorgridcolor": "white",
             "startlinecolor": "#2a3f5f"
            },
            "baxis": {
             "endlinecolor": "#2a3f5f",
             "gridcolor": "white",
             "linecolor": "white",
             "minorgridcolor": "white",
             "startlinecolor": "#2a3f5f"
            },
            "type": "carpet"
           }
          ],
          "choropleth": [
           {
            "colorbar": {
             "outlinewidth": 0,
             "ticks": ""
            },
            "type": "choropleth"
           }
          ],
          "contour": [
           {
            "colorbar": {
             "outlinewidth": 0,
             "ticks": ""
            },
            "colorscale": [
             [
              0,
              "#0d0887"
             ],
             [
              0.1111111111111111,
              "#46039f"
             ],
             [
              0.2222222222222222,
              "#7201a8"
             ],
             [
              0.3333333333333333,
              "#9c179e"
             ],
             [
              0.4444444444444444,
              "#bd3786"
             ],
             [
              0.5555555555555556,
              "#d8576b"
             ],
             [
              0.6666666666666666,
              "#ed7953"
             ],
             [
              0.7777777777777778,
              "#fb9f3a"
             ],
             [
              0.8888888888888888,
              "#fdca26"
             ],
             [
              1,
              "#f0f921"
             ]
            ],
            "type": "contour"
           }
          ],
          "contourcarpet": [
           {
            "colorbar": {
             "outlinewidth": 0,
             "ticks": ""
            },
            "type": "contourcarpet"
           }
          ],
          "heatmap": [
           {
            "colorbar": {
             "outlinewidth": 0,
             "ticks": ""
            },
            "colorscale": [
             [
              0,
              "#0d0887"
             ],
             [
              0.1111111111111111,
              "#46039f"
             ],
             [
              0.2222222222222222,
              "#7201a8"
             ],
             [
              0.3333333333333333,
              "#9c179e"
             ],
             [
              0.4444444444444444,
              "#bd3786"
             ],
             [
              0.5555555555555556,
              "#d8576b"
             ],
             [
              0.6666666666666666,
              "#ed7953"
             ],
             [
              0.7777777777777778,
              "#fb9f3a"
             ],
             [
              0.8888888888888888,
              "#fdca26"
             ],
             [
              1,
              "#f0f921"
             ]
            ],
            "type": "heatmap"
           }
          ],
          "heatmapgl": [
           {
            "colorbar": {
             "outlinewidth": 0,
             "ticks": ""
            },
            "colorscale": [
             [
              0,
              "#0d0887"
             ],
             [
              0.1111111111111111,
              "#46039f"
             ],
             [
              0.2222222222222222,
              "#7201a8"
             ],
             [
              0.3333333333333333,
              "#9c179e"
             ],
             [
              0.4444444444444444,
              "#bd3786"
             ],
             [
              0.5555555555555556,
              "#d8576b"
             ],
             [
              0.6666666666666666,
              "#ed7953"
             ],
             [
              0.7777777777777778,
              "#fb9f3a"
             ],
             [
              0.8888888888888888,
              "#fdca26"
             ],
             [
              1,
              "#f0f921"
             ]
            ],
            "type": "heatmapgl"
           }
          ],
          "histogram": [
           {
            "marker": {
             "pattern": {
              "fillmode": "overlay",
              "size": 10,
              "solidity": 0.2
             }
            },
            "type": "histogram"
           }
          ],
          "histogram2d": [
           {
            "colorbar": {
             "outlinewidth": 0,
             "ticks": ""
            },
            "colorscale": [
             [
              0,
              "#0d0887"
             ],
             [
              0.1111111111111111,
              "#46039f"
             ],
             [
              0.2222222222222222,
              "#7201a8"
             ],
             [
              0.3333333333333333,
              "#9c179e"
             ],
             [
              0.4444444444444444,
              "#bd3786"
             ],
             [
              0.5555555555555556,
              "#d8576b"
             ],
             [
              0.6666666666666666,
              "#ed7953"
             ],
             [
              0.7777777777777778,
              "#fb9f3a"
             ],
             [
              0.8888888888888888,
              "#fdca26"
             ],
             [
              1,
              "#f0f921"
             ]
            ],
            "type": "histogram2d"
           }
          ],
          "histogram2dcontour": [
           {
            "colorbar": {
             "outlinewidth": 0,
             "ticks": ""
            },
            "colorscale": [
             [
              0,
              "#0d0887"
             ],
             [
              0.1111111111111111,
              "#46039f"
             ],
             [
              0.2222222222222222,
              "#7201a8"
             ],
             [
              0.3333333333333333,
              "#9c179e"
             ],
             [
              0.4444444444444444,
              "#bd3786"
             ],
             [
              0.5555555555555556,
              "#d8576b"
             ],
             [
              0.6666666666666666,
              "#ed7953"
             ],
             [
              0.7777777777777778,
              "#fb9f3a"
             ],
             [
              0.8888888888888888,
              "#fdca26"
             ],
             [
              1,
              "#f0f921"
             ]
            ],
            "type": "histogram2dcontour"
           }
          ],
          "mesh3d": [
           {
            "colorbar": {
             "outlinewidth": 0,
             "ticks": ""
            },
            "type": "mesh3d"
           }
          ],
          "parcoords": [
           {
            "line": {
             "colorbar": {
              "outlinewidth": 0,
              "ticks": ""
             }
            },
            "type": "parcoords"
           }
          ],
          "pie": [
           {
            "automargin": true,
            "type": "pie"
           }
          ],
          "scatter": [
           {
            "marker": {
             "colorbar": {
              "outlinewidth": 0,
              "ticks": ""
             }
            },
            "type": "scatter"
           }
          ],
          "scatter3d": [
           {
            "line": {
             "colorbar": {
              "outlinewidth": 0,
              "ticks": ""
             }
            },
            "marker": {
             "colorbar": {
              "outlinewidth": 0,
              "ticks": ""
             }
            },
            "type": "scatter3d"
           }
          ],
          "scattercarpet": [
           {
            "marker": {
             "colorbar": {
              "outlinewidth": 0,
              "ticks": ""
             }
            },
            "type": "scattercarpet"
           }
          ],
          "scattergeo": [
           {
            "marker": {
             "colorbar": {
              "outlinewidth": 0,
              "ticks": ""
             }
            },
            "type": "scattergeo"
           }
          ],
          "scattergl": [
           {
            "marker": {
             "colorbar": {
              "outlinewidth": 0,
              "ticks": ""
             }
            },
            "type": "scattergl"
           }
          ],
          "scattermapbox": [
           {
            "marker": {
             "colorbar": {
              "outlinewidth": 0,
              "ticks": ""
             }
            },
            "type": "scattermapbox"
           }
          ],
          "scatterpolar": [
           {
            "marker": {
             "colorbar": {
              "outlinewidth": 0,
              "ticks": ""
             }
            },
            "type": "scatterpolar"
           }
          ],
          "scatterpolargl": [
           {
            "marker": {
             "colorbar": {
              "outlinewidth": 0,
              "ticks": ""
             }
            },
            "type": "scatterpolargl"
           }
          ],
          "scatterternary": [
           {
            "marker": {
             "colorbar": {
              "outlinewidth": 0,
              "ticks": ""
             }
            },
            "type": "scatterternary"
           }
          ],
          "surface": [
           {
            "colorbar": {
             "outlinewidth": 0,
             "ticks": ""
            },
            "colorscale": [
             [
              0,
              "#0d0887"
             ],
             [
              0.1111111111111111,
              "#46039f"
             ],
             [
              0.2222222222222222,
              "#7201a8"
             ],
             [
              0.3333333333333333,
              "#9c179e"
             ],
             [
              0.4444444444444444,
              "#bd3786"
             ],
             [
              0.5555555555555556,
              "#d8576b"
             ],
             [
              0.6666666666666666,
              "#ed7953"
             ],
             [
              0.7777777777777778,
              "#fb9f3a"
             ],
             [
              0.8888888888888888,
              "#fdca26"
             ],
             [
              1,
              "#f0f921"
             ]
            ],
            "type": "surface"
           }
          ],
          "table": [
           {
            "cells": {
             "fill": {
              "color": "#EBF0F8"
             },
             "line": {
              "color": "white"
             }
            },
            "header": {
             "fill": {
              "color": "#C8D4E3"
             },
             "line": {
              "color": "white"
             }
            },
            "type": "table"
           }
          ]
         },
         "layout": {
          "annotationdefaults": {
           "arrowcolor": "#2a3f5f",
           "arrowhead": 0,
           "arrowwidth": 1
          },
          "autotypenumbers": "strict",
          "coloraxis": {
           "colorbar": {
            "outlinewidth": 0,
            "ticks": ""
           }
          },
          "colorscale": {
           "diverging": [
            [
             0,
             "#8e0152"
            ],
            [
             0.1,
             "#c51b7d"
            ],
            [
             0.2,
             "#de77ae"
            ],
            [
             0.3,
             "#f1b6da"
            ],
            [
             0.4,
             "#fde0ef"
            ],
            [
             0.5,
             "#f7f7f7"
            ],
            [
             0.6,
             "#e6f5d0"
            ],
            [
             0.7,
             "#b8e186"
            ],
            [
             0.8,
             "#7fbc41"
            ],
            [
             0.9,
             "#4d9221"
            ],
            [
             1,
             "#276419"
            ]
           ],
           "sequential": [
            [
             0,
             "#0d0887"
            ],
            [
             0.1111111111111111,
             "#46039f"
            ],
            [
             0.2222222222222222,
             "#7201a8"
            ],
            [
             0.3333333333333333,
             "#9c179e"
            ],
            [
             0.4444444444444444,
             "#bd3786"
            ],
            [
             0.5555555555555556,
             "#d8576b"
            ],
            [
             0.6666666666666666,
             "#ed7953"
            ],
            [
             0.7777777777777778,
             "#fb9f3a"
            ],
            [
             0.8888888888888888,
             "#fdca26"
            ],
            [
             1,
             "#f0f921"
            ]
           ],
           "sequentialminus": [
            [
             0,
             "#0d0887"
            ],
            [
             0.1111111111111111,
             "#46039f"
            ],
            [
             0.2222222222222222,
             "#7201a8"
            ],
            [
             0.3333333333333333,
             "#9c179e"
            ],
            [
             0.4444444444444444,
             "#bd3786"
            ],
            [
             0.5555555555555556,
             "#d8576b"
            ],
            [
             0.6666666666666666,
             "#ed7953"
            ],
            [
             0.7777777777777778,
             "#fb9f3a"
            ],
            [
             0.8888888888888888,
             "#fdca26"
            ],
            [
             1,
             "#f0f921"
            ]
           ]
          },
          "colorway": [
           "#636efa",
           "#EF553B",
           "#00cc96",
           "#ab63fa",
           "#FFA15A",
           "#19d3f3",
           "#FF6692",
           "#B6E880",
           "#FF97FF",
           "#FECB52"
          ],
          "font": {
           "color": "#2a3f5f"
          },
          "geo": {
           "bgcolor": "white",
           "lakecolor": "white",
           "landcolor": "#E5ECF6",
           "showlakes": true,
           "showland": true,
           "subunitcolor": "white"
          },
          "hoverlabel": {
           "align": "left"
          },
          "hovermode": "closest",
          "mapbox": {
           "style": "light"
          },
          "paper_bgcolor": "white",
          "plot_bgcolor": "#E5ECF6",
          "polar": {
           "angularaxis": {
            "gridcolor": "white",
            "linecolor": "white",
            "ticks": ""
           },
           "bgcolor": "#E5ECF6",
           "radialaxis": {
            "gridcolor": "white",
            "linecolor": "white",
            "ticks": ""
           }
          },
          "scene": {
           "xaxis": {
            "backgroundcolor": "#E5ECF6",
            "gridcolor": "white",
            "gridwidth": 2,
            "linecolor": "white",
            "showbackground": true,
            "ticks": "",
            "zerolinecolor": "white"
           },
           "yaxis": {
            "backgroundcolor": "#E5ECF6",
            "gridcolor": "white",
            "gridwidth": 2,
            "linecolor": "white",
            "showbackground": true,
            "ticks": "",
            "zerolinecolor": "white"
           },
           "zaxis": {
            "backgroundcolor": "#E5ECF6",
            "gridcolor": "white",
            "gridwidth": 2,
            "linecolor": "white",
            "showbackground": true,
            "ticks": "",
            "zerolinecolor": "white"
           }
          },
          "shapedefaults": {
           "line": {
            "color": "#2a3f5f"
           }
          },
          "ternary": {
           "aaxis": {
            "gridcolor": "white",
            "linecolor": "white",
            "ticks": ""
           },
           "baxis": {
            "gridcolor": "white",
            "linecolor": "white",
            "ticks": ""
           },
           "bgcolor": "#E5ECF6",
           "caxis": {
            "gridcolor": "white",
            "linecolor": "white",
            "ticks": ""
           }
          },
          "title": {
           "x": 0.05
          },
          "xaxis": {
           "automargin": true,
           "gridcolor": "white",
           "linecolor": "white",
           "ticks": "",
           "title": {
            "standoff": 15
           },
           "zerolinecolor": "white",
           "zerolinewidth": 2
          },
          "yaxis": {
           "automargin": true,
           "gridcolor": "white",
           "linecolor": "white",
           "ticks": "",
           "title": {
            "standoff": 15
           },
           "zerolinecolor": "white",
           "zerolinewidth": 2
          }
         }
        }
       }
      }
     },
     "metadata": {},
     "output_type": "display_data"
    }
   ],
   "source": [
    "trace = go.Bar(x=dataset.corr()['skip_2'].index,y=dataset.corr()['skip_2'])\n",
    "iplot([trace])"
   ]
  },
  {
   "cell_type": "markdown",
   "metadata": {},
   "source": [
    "We can see that there are some variables which are positively highly correlated with **skip_2** column such as **skip_1, skip_3** and **no_pause_before_play.**"
   ]
  },
  {
   "cell_type": "markdown",
   "metadata": {},
   "source": [
    "### Average duration of a session"
   ]
  },
  {
   "cell_type": "code",
   "execution_count": 30,
   "metadata": {},
   "outputs": [
    {
     "data": {
      "text/plain": [
       "count    167880.000000\n",
       "mean        215.893484\n",
       "std          60.223626\n",
       "min          30.013330\n",
       "25%         183.503403\n",
       "50%         212.027023\n",
       "75%         240.800003\n",
       "max        1787.760986\n",
       "Name: duration, dtype: float64"
      ]
     },
     "execution_count": 30,
     "metadata": {},
     "output_type": "execute_result"
    }
   ],
   "source": [
    "dataset['duration'].describe()"
   ]
  },
  {
   "cell_type": "markdown",
   "metadata": {},
   "source": [
    "### Checking wether we have an imbalanced dataset or not"
   ]
  },
  {
   "cell_type": "code",
   "execution_count": 31,
   "metadata": {},
   "outputs": [
    {
     "data": {
      "application/vnd.plotly.v1+json": {
       "config": {
        "linkText": "Export to plot.ly",
        "plotlyServerURL": "https://plot.ly",
        "showLink": false
       },
       "data": [
        {
         "hoverinfo": "label+percent",
         "labels": [
          true,
          false
         ],
         "textinfo": "value",
         "type": "pie",
         "values": [
          86824,
          81056
         ]
        }
       ],
       "layout": {
        "template": {
         "data": {
          "bar": [
           {
            "error_x": {
             "color": "#2a3f5f"
            },
            "error_y": {
             "color": "#2a3f5f"
            },
            "marker": {
             "line": {
              "color": "#E5ECF6",
              "width": 0.5
             },
             "pattern": {
              "fillmode": "overlay",
              "size": 10,
              "solidity": 0.2
             }
            },
            "type": "bar"
           }
          ],
          "barpolar": [
           {
            "marker": {
             "line": {
              "color": "#E5ECF6",
              "width": 0.5
             },
             "pattern": {
              "fillmode": "overlay",
              "size": 10,
              "solidity": 0.2
             }
            },
            "type": "barpolar"
           }
          ],
          "carpet": [
           {
            "aaxis": {
             "endlinecolor": "#2a3f5f",
             "gridcolor": "white",
             "linecolor": "white",
             "minorgridcolor": "white",
             "startlinecolor": "#2a3f5f"
            },
            "baxis": {
             "endlinecolor": "#2a3f5f",
             "gridcolor": "white",
             "linecolor": "white",
             "minorgridcolor": "white",
             "startlinecolor": "#2a3f5f"
            },
            "type": "carpet"
           }
          ],
          "choropleth": [
           {
            "colorbar": {
             "outlinewidth": 0,
             "ticks": ""
            },
            "type": "choropleth"
           }
          ],
          "contour": [
           {
            "colorbar": {
             "outlinewidth": 0,
             "ticks": ""
            },
            "colorscale": [
             [
              0,
              "#0d0887"
             ],
             [
              0.1111111111111111,
              "#46039f"
             ],
             [
              0.2222222222222222,
              "#7201a8"
             ],
             [
              0.3333333333333333,
              "#9c179e"
             ],
             [
              0.4444444444444444,
              "#bd3786"
             ],
             [
              0.5555555555555556,
              "#d8576b"
             ],
             [
              0.6666666666666666,
              "#ed7953"
             ],
             [
              0.7777777777777778,
              "#fb9f3a"
             ],
             [
              0.8888888888888888,
              "#fdca26"
             ],
             [
              1,
              "#f0f921"
             ]
            ],
            "type": "contour"
           }
          ],
          "contourcarpet": [
           {
            "colorbar": {
             "outlinewidth": 0,
             "ticks": ""
            },
            "type": "contourcarpet"
           }
          ],
          "heatmap": [
           {
            "colorbar": {
             "outlinewidth": 0,
             "ticks": ""
            },
            "colorscale": [
             [
              0,
              "#0d0887"
             ],
             [
              0.1111111111111111,
              "#46039f"
             ],
             [
              0.2222222222222222,
              "#7201a8"
             ],
             [
              0.3333333333333333,
              "#9c179e"
             ],
             [
              0.4444444444444444,
              "#bd3786"
             ],
             [
              0.5555555555555556,
              "#d8576b"
             ],
             [
              0.6666666666666666,
              "#ed7953"
             ],
             [
              0.7777777777777778,
              "#fb9f3a"
             ],
             [
              0.8888888888888888,
              "#fdca26"
             ],
             [
              1,
              "#f0f921"
             ]
            ],
            "type": "heatmap"
           }
          ],
          "heatmapgl": [
           {
            "colorbar": {
             "outlinewidth": 0,
             "ticks": ""
            },
            "colorscale": [
             [
              0,
              "#0d0887"
             ],
             [
              0.1111111111111111,
              "#46039f"
             ],
             [
              0.2222222222222222,
              "#7201a8"
             ],
             [
              0.3333333333333333,
              "#9c179e"
             ],
             [
              0.4444444444444444,
              "#bd3786"
             ],
             [
              0.5555555555555556,
              "#d8576b"
             ],
             [
              0.6666666666666666,
              "#ed7953"
             ],
             [
              0.7777777777777778,
              "#fb9f3a"
             ],
             [
              0.8888888888888888,
              "#fdca26"
             ],
             [
              1,
              "#f0f921"
             ]
            ],
            "type": "heatmapgl"
           }
          ],
          "histogram": [
           {
            "marker": {
             "pattern": {
              "fillmode": "overlay",
              "size": 10,
              "solidity": 0.2
             }
            },
            "type": "histogram"
           }
          ],
          "histogram2d": [
           {
            "colorbar": {
             "outlinewidth": 0,
             "ticks": ""
            },
            "colorscale": [
             [
              0,
              "#0d0887"
             ],
             [
              0.1111111111111111,
              "#46039f"
             ],
             [
              0.2222222222222222,
              "#7201a8"
             ],
             [
              0.3333333333333333,
              "#9c179e"
             ],
             [
              0.4444444444444444,
              "#bd3786"
             ],
             [
              0.5555555555555556,
              "#d8576b"
             ],
             [
              0.6666666666666666,
              "#ed7953"
             ],
             [
              0.7777777777777778,
              "#fb9f3a"
             ],
             [
              0.8888888888888888,
              "#fdca26"
             ],
             [
              1,
              "#f0f921"
             ]
            ],
            "type": "histogram2d"
           }
          ],
          "histogram2dcontour": [
           {
            "colorbar": {
             "outlinewidth": 0,
             "ticks": ""
            },
            "colorscale": [
             [
              0,
              "#0d0887"
             ],
             [
              0.1111111111111111,
              "#46039f"
             ],
             [
              0.2222222222222222,
              "#7201a8"
             ],
             [
              0.3333333333333333,
              "#9c179e"
             ],
             [
              0.4444444444444444,
              "#bd3786"
             ],
             [
              0.5555555555555556,
              "#d8576b"
             ],
             [
              0.6666666666666666,
              "#ed7953"
             ],
             [
              0.7777777777777778,
              "#fb9f3a"
             ],
             [
              0.8888888888888888,
              "#fdca26"
             ],
             [
              1,
              "#f0f921"
             ]
            ],
            "type": "histogram2dcontour"
           }
          ],
          "mesh3d": [
           {
            "colorbar": {
             "outlinewidth": 0,
             "ticks": ""
            },
            "type": "mesh3d"
           }
          ],
          "parcoords": [
           {
            "line": {
             "colorbar": {
              "outlinewidth": 0,
              "ticks": ""
             }
            },
            "type": "parcoords"
           }
          ],
          "pie": [
           {
            "automargin": true,
            "type": "pie"
           }
          ],
          "scatter": [
           {
            "marker": {
             "colorbar": {
              "outlinewidth": 0,
              "ticks": ""
             }
            },
            "type": "scatter"
           }
          ],
          "scatter3d": [
           {
            "line": {
             "colorbar": {
              "outlinewidth": 0,
              "ticks": ""
             }
            },
            "marker": {
             "colorbar": {
              "outlinewidth": 0,
              "ticks": ""
             }
            },
            "type": "scatter3d"
           }
          ],
          "scattercarpet": [
           {
            "marker": {
             "colorbar": {
              "outlinewidth": 0,
              "ticks": ""
             }
            },
            "type": "scattercarpet"
           }
          ],
          "scattergeo": [
           {
            "marker": {
             "colorbar": {
              "outlinewidth": 0,
              "ticks": ""
             }
            },
            "type": "scattergeo"
           }
          ],
          "scattergl": [
           {
            "marker": {
             "colorbar": {
              "outlinewidth": 0,
              "ticks": ""
             }
            },
            "type": "scattergl"
           }
          ],
          "scattermapbox": [
           {
            "marker": {
             "colorbar": {
              "outlinewidth": 0,
              "ticks": ""
             }
            },
            "type": "scattermapbox"
           }
          ],
          "scatterpolar": [
           {
            "marker": {
             "colorbar": {
              "outlinewidth": 0,
              "ticks": ""
             }
            },
            "type": "scatterpolar"
           }
          ],
          "scatterpolargl": [
           {
            "marker": {
             "colorbar": {
              "outlinewidth": 0,
              "ticks": ""
             }
            },
            "type": "scatterpolargl"
           }
          ],
          "scatterternary": [
           {
            "marker": {
             "colorbar": {
              "outlinewidth": 0,
              "ticks": ""
             }
            },
            "type": "scatterternary"
           }
          ],
          "surface": [
           {
            "colorbar": {
             "outlinewidth": 0,
             "ticks": ""
            },
            "colorscale": [
             [
              0,
              "#0d0887"
             ],
             [
              0.1111111111111111,
              "#46039f"
             ],
             [
              0.2222222222222222,
              "#7201a8"
             ],
             [
              0.3333333333333333,
              "#9c179e"
             ],
             [
              0.4444444444444444,
              "#bd3786"
             ],
             [
              0.5555555555555556,
              "#d8576b"
             ],
             [
              0.6666666666666666,
              "#ed7953"
             ],
             [
              0.7777777777777778,
              "#fb9f3a"
             ],
             [
              0.8888888888888888,
              "#fdca26"
             ],
             [
              1,
              "#f0f921"
             ]
            ],
            "type": "surface"
           }
          ],
          "table": [
           {
            "cells": {
             "fill": {
              "color": "#EBF0F8"
             },
             "line": {
              "color": "white"
             }
            },
            "header": {
             "fill": {
              "color": "#C8D4E3"
             },
             "line": {
              "color": "white"
             }
            },
            "type": "table"
           }
          ]
         },
         "layout": {
          "annotationdefaults": {
           "arrowcolor": "#2a3f5f",
           "arrowhead": 0,
           "arrowwidth": 1
          },
          "autotypenumbers": "strict",
          "coloraxis": {
           "colorbar": {
            "outlinewidth": 0,
            "ticks": ""
           }
          },
          "colorscale": {
           "diverging": [
            [
             0,
             "#8e0152"
            ],
            [
             0.1,
             "#c51b7d"
            ],
            [
             0.2,
             "#de77ae"
            ],
            [
             0.3,
             "#f1b6da"
            ],
            [
             0.4,
             "#fde0ef"
            ],
            [
             0.5,
             "#f7f7f7"
            ],
            [
             0.6,
             "#e6f5d0"
            ],
            [
             0.7,
             "#b8e186"
            ],
            [
             0.8,
             "#7fbc41"
            ],
            [
             0.9,
             "#4d9221"
            ],
            [
             1,
             "#276419"
            ]
           ],
           "sequential": [
            [
             0,
             "#0d0887"
            ],
            [
             0.1111111111111111,
             "#46039f"
            ],
            [
             0.2222222222222222,
             "#7201a8"
            ],
            [
             0.3333333333333333,
             "#9c179e"
            ],
            [
             0.4444444444444444,
             "#bd3786"
            ],
            [
             0.5555555555555556,
             "#d8576b"
            ],
            [
             0.6666666666666666,
             "#ed7953"
            ],
            [
             0.7777777777777778,
             "#fb9f3a"
            ],
            [
             0.8888888888888888,
             "#fdca26"
            ],
            [
             1,
             "#f0f921"
            ]
           ],
           "sequentialminus": [
            [
             0,
             "#0d0887"
            ],
            [
             0.1111111111111111,
             "#46039f"
            ],
            [
             0.2222222222222222,
             "#7201a8"
            ],
            [
             0.3333333333333333,
             "#9c179e"
            ],
            [
             0.4444444444444444,
             "#bd3786"
            ],
            [
             0.5555555555555556,
             "#d8576b"
            ],
            [
             0.6666666666666666,
             "#ed7953"
            ],
            [
             0.7777777777777778,
             "#fb9f3a"
            ],
            [
             0.8888888888888888,
             "#fdca26"
            ],
            [
             1,
             "#f0f921"
            ]
           ]
          },
          "colorway": [
           "#636efa",
           "#EF553B",
           "#00cc96",
           "#ab63fa",
           "#FFA15A",
           "#19d3f3",
           "#FF6692",
           "#B6E880",
           "#FF97FF",
           "#FECB52"
          ],
          "font": {
           "color": "#2a3f5f"
          },
          "geo": {
           "bgcolor": "white",
           "lakecolor": "white",
           "landcolor": "#E5ECF6",
           "showlakes": true,
           "showland": true,
           "subunitcolor": "white"
          },
          "hoverlabel": {
           "align": "left"
          },
          "hovermode": "closest",
          "mapbox": {
           "style": "light"
          },
          "paper_bgcolor": "white",
          "plot_bgcolor": "#E5ECF6",
          "polar": {
           "angularaxis": {
            "gridcolor": "white",
            "linecolor": "white",
            "ticks": ""
           },
           "bgcolor": "#E5ECF6",
           "radialaxis": {
            "gridcolor": "white",
            "linecolor": "white",
            "ticks": ""
           }
          },
          "scene": {
           "xaxis": {
            "backgroundcolor": "#E5ECF6",
            "gridcolor": "white",
            "gridwidth": 2,
            "linecolor": "white",
            "showbackground": true,
            "ticks": "",
            "zerolinecolor": "white"
           },
           "yaxis": {
            "backgroundcolor": "#E5ECF6",
            "gridcolor": "white",
            "gridwidth": 2,
            "linecolor": "white",
            "showbackground": true,
            "ticks": "",
            "zerolinecolor": "white"
           },
           "zaxis": {
            "backgroundcolor": "#E5ECF6",
            "gridcolor": "white",
            "gridwidth": 2,
            "linecolor": "white",
            "showbackground": true,
            "ticks": "",
            "zerolinecolor": "white"
           }
          },
          "shapedefaults": {
           "line": {
            "color": "#2a3f5f"
           }
          },
          "ternary": {
           "aaxis": {
            "gridcolor": "white",
            "linecolor": "white",
            "ticks": ""
           },
           "baxis": {
            "gridcolor": "white",
            "linecolor": "white",
            "ticks": ""
           },
           "bgcolor": "#E5ECF6",
           "caxis": {
            "gridcolor": "white",
            "linecolor": "white",
            "ticks": ""
           }
          },
          "title": {
           "x": 0.05
          },
          "xaxis": {
           "automargin": true,
           "gridcolor": "white",
           "linecolor": "white",
           "ticks": "",
           "title": {
            "standoff": 15
           },
           "zerolinecolor": "white",
           "zerolinewidth": 2
          },
          "yaxis": {
           "automargin": true,
           "gridcolor": "white",
           "linecolor": "white",
           "ticks": "",
           "title": {
            "standoff": 15
           },
           "zerolinecolor": "white",
           "zerolinewidth": 2
          }
         }
        }
       }
      }
     },
     "metadata": {},
     "output_type": "display_data"
    }
   ],
   "source": [
    "trace2 = go.Pie(labels=dataset['skip_2'].value_counts().index,values=dataset['skip_2'].value_counts(),hoverinfo='label+percent',textinfo='value')\n",
    "iplot([trace2])"
   ]
  },
  {
   "cell_type": "markdown",
   "metadata": {},
   "source": [
    "We can conclude that we have a balanced dataset because both values of our target feature are almost equals."
   ]
  },
  {
   "cell_type": "markdown",
   "metadata": {},
   "source": [
    "### We are going to change the type of the  feature 'date' as datetime."
   ]
  },
  {
   "cell_type": "code",
   "execution_count": 32,
   "metadata": {},
   "outputs": [
    {
     "data": {
      "text/html": [
       "<div>\n",
       "<style scoped>\n",
       "    .dataframe tbody tr th:only-of-type {\n",
       "        vertical-align: middle;\n",
       "    }\n",
       "\n",
       "    .dataframe tbody tr th {\n",
       "        vertical-align: top;\n",
       "    }\n",
       "\n",
       "    .dataframe thead th {\n",
       "        text-align: right;\n",
       "    }\n",
       "</style>\n",
       "<table border=\"1\" class=\"dataframe\">\n",
       "  <thead>\n",
       "    <tr style=\"text-align: right;\">\n",
       "      <th></th>\n",
       "      <th>context_type</th>\n",
       "      <th>hist_user_behavior_reason_start</th>\n",
       "      <th>hist_user_behavior_reason_end</th>\n",
       "      <th>mode</th>\n",
       "    </tr>\n",
       "  </thead>\n",
       "  <tbody>\n",
       "    <tr>\n",
       "      <th>0</th>\n",
       "      <td>editorial_playlist</td>\n",
       "      <td>trackdone</td>\n",
       "      <td>trackdone</td>\n",
       "      <td>major</td>\n",
       "    </tr>\n",
       "    <tr>\n",
       "      <th>1</th>\n",
       "      <td>editorial_playlist</td>\n",
       "      <td>fwdbtn</td>\n",
       "      <td>endplay</td>\n",
       "      <td>major</td>\n",
       "    </tr>\n",
       "    <tr>\n",
       "      <th>2</th>\n",
       "      <td>user_collection</td>\n",
       "      <td>trackdone</td>\n",
       "      <td>trackdone</td>\n",
       "      <td>major</td>\n",
       "    </tr>\n",
       "    <tr>\n",
       "      <th>3</th>\n",
       "      <td>editorial_playlist</td>\n",
       "      <td>fwdbtn</td>\n",
       "      <td>trackdone</td>\n",
       "      <td>major</td>\n",
       "    </tr>\n",
       "    <tr>\n",
       "      <th>4</th>\n",
       "      <td>editorial_playlist</td>\n",
       "      <td>trackdone</td>\n",
       "      <td>fwdbtn</td>\n",
       "      <td>major</td>\n",
       "    </tr>\n",
       "  </tbody>\n",
       "</table>\n",
       "</div>"
      ],
      "text/plain": [
       "         context_type hist_user_behavior_reason_start  \\\n",
       "0  editorial_playlist                       trackdone   \n",
       "1  editorial_playlist                          fwdbtn   \n",
       "2     user_collection                       trackdone   \n",
       "3  editorial_playlist                          fwdbtn   \n",
       "4  editorial_playlist                       trackdone   \n",
       "\n",
       "  hist_user_behavior_reason_end   mode  \n",
       "0                     trackdone  major  \n",
       "1                       endplay  major  \n",
       "2                     trackdone  major  \n",
       "3                     trackdone  major  \n",
       "4                        fwdbtn  major  "
      ]
     },
     "execution_count": 32,
     "metadata": {},
     "output_type": "execute_result"
    }
   ],
   "source": [
    "dataset_cat.head()"
   ]
  },
  {
   "cell_type": "markdown",
   "metadata": {},
   "source": [
    "### One hot Encoding on categorical column"
   ]
  },
  {
   "cell_type": "code",
   "execution_count": 33,
   "metadata": {},
   "outputs": [],
   "source": [
    "dataset_cat['context_type'] = dataset_cat ['context_type'].replace({\n",
    "    'editorial_playlist': 1,\n",
    "    'user_collection': 2,\n",
    "    'radio':3,\n",
    "    'personalized_playlist' : 4,\n",
    "    'catalog': 5,\n",
    "    'charts' : 6\n",
    "})\n",
    "dataset_cat['hist_user_behavior_reason_start'] = dataset_cat ['hist_user_behavior_reason_start'].replace({\n",
    "    'trackdone': 1,\n",
    "    'fwdbtn': 2,\n",
    "    'backbtn':3,\n",
    "    'clickrow' : 4,\n",
    "    'appload': 5,\n",
    "    'playbtn' : 6,\n",
    "    'remote' : 7,\n",
    "    'trackerror' : 8,\n",
    "    'endplay' : 9\n",
    "})\n",
    "dataset_cat['hist_user_behavior_reason_end'] = dataset_cat['hist_user_behavior_reason_end'].replace({\n",
    "    'trackdone': 1,\n",
    "    'fwdbtn': 2,\n",
    "    'backbtn':3,\n",
    "    'endplay' : 4,\n",
    "    'logout' : 5,\n",
    "    \"remote\":6,\n",
    "    \"clickrow\":7\n",
    "\n",
    "})\n",
    "dataset_cat['mode'] = dataset_cat['mode'].replace({\n",
    "    'major': 1,\n",
    "    'minor': 0\n",
    "})"
   ]
  },
  {
   "cell_type": "code",
   "execution_count": 34,
   "metadata": {
    "scrolled": true
   },
   "outputs": [
    {
     "data": {
      "text/html": [
       "<div>\n",
       "<style scoped>\n",
       "    .dataframe tbody tr th:only-of-type {\n",
       "        vertical-align: middle;\n",
       "    }\n",
       "\n",
       "    .dataframe tbody tr th {\n",
       "        vertical-align: top;\n",
       "    }\n",
       "\n",
       "    .dataframe thead th {\n",
       "        text-align: right;\n",
       "    }\n",
       "</style>\n",
       "<table border=\"1\" class=\"dataframe\">\n",
       "  <thead>\n",
       "    <tr style=\"text-align: right;\">\n",
       "      <th></th>\n",
       "      <th>context_type</th>\n",
       "      <th>hist_user_behavior_reason_start</th>\n",
       "      <th>hist_user_behavior_reason_end</th>\n",
       "      <th>mode</th>\n",
       "    </tr>\n",
       "  </thead>\n",
       "  <tbody>\n",
       "    <tr>\n",
       "      <th>0</th>\n",
       "      <td>1</td>\n",
       "      <td>1</td>\n",
       "      <td>1</td>\n",
       "      <td>1</td>\n",
       "    </tr>\n",
       "    <tr>\n",
       "      <th>1</th>\n",
       "      <td>1</td>\n",
       "      <td>2</td>\n",
       "      <td>4</td>\n",
       "      <td>1</td>\n",
       "    </tr>\n",
       "    <tr>\n",
       "      <th>2</th>\n",
       "      <td>2</td>\n",
       "      <td>1</td>\n",
       "      <td>1</td>\n",
       "      <td>1</td>\n",
       "    </tr>\n",
       "    <tr>\n",
       "      <th>3</th>\n",
       "      <td>1</td>\n",
       "      <td>2</td>\n",
       "      <td>1</td>\n",
       "      <td>1</td>\n",
       "    </tr>\n",
       "    <tr>\n",
       "      <th>4</th>\n",
       "      <td>1</td>\n",
       "      <td>1</td>\n",
       "      <td>2</td>\n",
       "      <td>1</td>\n",
       "    </tr>\n",
       "  </tbody>\n",
       "</table>\n",
       "</div>"
      ],
      "text/plain": [
       "   context_type  hist_user_behavior_reason_start  \\\n",
       "0             1                                1   \n",
       "1             1                                2   \n",
       "2             2                                1   \n",
       "3             1                                2   \n",
       "4             1                                1   \n",
       "\n",
       "   hist_user_behavior_reason_end  mode  \n",
       "0                              1     1  \n",
       "1                              4     1  \n",
       "2                              1     1  \n",
       "3                              1     1  \n",
       "4                              2     1  "
      ]
     },
     "execution_count": 34,
     "metadata": {},
     "output_type": "execute_result"
    }
   ],
   "source": [
    "dataset_cat.head()"
   ]
  },
  {
   "cell_type": "markdown",
   "metadata": {},
   "source": [
    "### Data Preprocessing: Numerical Feature"
   ]
  },
  {
   "cell_type": "code",
   "execution_count": 35,
   "metadata": {},
   "outputs": [
    {
     "data": {
      "text/html": [
       "<div>\n",
       "<style scoped>\n",
       "    .dataframe tbody tr th:only-of-type {\n",
       "        vertical-align: middle;\n",
       "    }\n",
       "\n",
       "    .dataframe tbody tr th {\n",
       "        vertical-align: top;\n",
       "    }\n",
       "\n",
       "    .dataframe thead th {\n",
       "        text-align: right;\n",
       "    }\n",
       "</style>\n",
       "<table border=\"1\" class=\"dataframe\">\n",
       "  <thead>\n",
       "    <tr style=\"text-align: right;\">\n",
       "      <th></th>\n",
       "      <th>skip_2</th>\n",
       "      <th>session_position</th>\n",
       "      <th>context_switch</th>\n",
       "      <th>no_pause_before_play</th>\n",
       "      <th>hist_user_behavior_n_seekfwd</th>\n",
       "      <th>hist_user_behavior_n_seekback</th>\n",
       "      <th>hist_user_behavior_is_shuffle</th>\n",
       "      <th>hour_of_day</th>\n",
       "      <th>danceability</th>\n",
       "      <th>energy</th>\n",
       "      <th>key</th>\n",
       "      <th>loudness</th>\n",
       "      <th>speechiness</th>\n",
       "      <th>instrumentalness</th>\n",
       "      <th>liveness</th>\n",
       "      <th>valence</th>\n",
       "      <th>tempo</th>\n",
       "      <th>duration</th>\n",
       "      <th>time_signature</th>\n",
       "    </tr>\n",
       "  </thead>\n",
       "  <tbody>\n",
       "    <tr>\n",
       "      <th>0</th>\n",
       "      <td>False</td>\n",
       "      <td>1</td>\n",
       "      <td>0</td>\n",
       "      <td>0</td>\n",
       "      <td>0</td>\n",
       "      <td>0</td>\n",
       "      <td>True</td>\n",
       "      <td>16</td>\n",
       "      <td>0.653119</td>\n",
       "      <td>0.553465</td>\n",
       "      <td>1</td>\n",
       "      <td>-6.577</td>\n",
       "      <td>0.069717</td>\n",
       "      <td>0.003484</td>\n",
       "      <td>0.678553</td>\n",
       "      <td>0.152255</td>\n",
       "      <td>134.024994</td>\n",
       "      <td>180.066666</td>\n",
       "      <td>4</td>\n",
       "    </tr>\n",
       "    <tr>\n",
       "      <th>1</th>\n",
       "      <td>False</td>\n",
       "      <td>7</td>\n",
       "      <td>0</td>\n",
       "      <td>0</td>\n",
       "      <td>0</td>\n",
       "      <td>0</td>\n",
       "      <td>False</td>\n",
       "      <td>17</td>\n",
       "      <td>0.653119</td>\n",
       "      <td>0.553465</td>\n",
       "      <td>1</td>\n",
       "      <td>-6.577</td>\n",
       "      <td>0.069717</td>\n",
       "      <td>0.003484</td>\n",
       "      <td>0.678553</td>\n",
       "      <td>0.152255</td>\n",
       "      <td>134.024994</td>\n",
       "      <td>180.066666</td>\n",
       "      <td>4</td>\n",
       "    </tr>\n",
       "    <tr>\n",
       "      <th>2</th>\n",
       "      <td>False</td>\n",
       "      <td>6</td>\n",
       "      <td>0</td>\n",
       "      <td>0</td>\n",
       "      <td>0</td>\n",
       "      <td>0</td>\n",
       "      <td>False</td>\n",
       "      <td>21</td>\n",
       "      <td>0.653119</td>\n",
       "      <td>0.553465</td>\n",
       "      <td>1</td>\n",
       "      <td>-6.577</td>\n",
       "      <td>0.069717</td>\n",
       "      <td>0.003484</td>\n",
       "      <td>0.678553</td>\n",
       "      <td>0.152255</td>\n",
       "      <td>134.024994</td>\n",
       "      <td>180.066666</td>\n",
       "      <td>4</td>\n",
       "    </tr>\n",
       "    <tr>\n",
       "      <th>3</th>\n",
       "      <td>False</td>\n",
       "      <td>9</td>\n",
       "      <td>0</td>\n",
       "      <td>1</td>\n",
       "      <td>0</td>\n",
       "      <td>0</td>\n",
       "      <td>False</td>\n",
       "      <td>18</td>\n",
       "      <td>0.653119</td>\n",
       "      <td>0.553465</td>\n",
       "      <td>1</td>\n",
       "      <td>-6.577</td>\n",
       "      <td>0.069717</td>\n",
       "      <td>0.003484</td>\n",
       "      <td>0.678553</td>\n",
       "      <td>0.152255</td>\n",
       "      <td>134.024994</td>\n",
       "      <td>180.066666</td>\n",
       "      <td>4</td>\n",
       "    </tr>\n",
       "    <tr>\n",
       "      <th>4</th>\n",
       "      <td>False</td>\n",
       "      <td>7</td>\n",
       "      <td>0</td>\n",
       "      <td>0</td>\n",
       "      <td>0</td>\n",
       "      <td>0</td>\n",
       "      <td>True</td>\n",
       "      <td>19</td>\n",
       "      <td>0.653119</td>\n",
       "      <td>0.553465</td>\n",
       "      <td>1</td>\n",
       "      <td>-6.577</td>\n",
       "      <td>0.069717</td>\n",
       "      <td>0.003484</td>\n",
       "      <td>0.678553</td>\n",
       "      <td>0.152255</td>\n",
       "      <td>134.024994</td>\n",
       "      <td>180.066666</td>\n",
       "      <td>4</td>\n",
       "    </tr>\n",
       "  </tbody>\n",
       "</table>\n",
       "</div>"
      ],
      "text/plain": [
       "   skip_2  session_position  context_switch  no_pause_before_play  \\\n",
       "0   False                 1               0                     0   \n",
       "1   False                 7               0                     0   \n",
       "2   False                 6               0                     0   \n",
       "3   False                 9               0                     1   \n",
       "4   False                 7               0                     0   \n",
       "\n",
       "   hist_user_behavior_n_seekfwd  hist_user_behavior_n_seekback  \\\n",
       "0                             0                              0   \n",
       "1                             0                              0   \n",
       "2                             0                              0   \n",
       "3                             0                              0   \n",
       "4                             0                              0   \n",
       "\n",
       "   hist_user_behavior_is_shuffle  hour_of_day  danceability    energy  key  \\\n",
       "0                           True           16      0.653119  0.553465    1   \n",
       "1                          False           17      0.653119  0.553465    1   \n",
       "2                          False           21      0.653119  0.553465    1   \n",
       "3                          False           18      0.653119  0.553465    1   \n",
       "4                           True           19      0.653119  0.553465    1   \n",
       "\n",
       "   loudness  speechiness  instrumentalness  liveness   valence       tempo  \\\n",
       "0    -6.577     0.069717          0.003484  0.678553  0.152255  134.024994   \n",
       "1    -6.577     0.069717          0.003484  0.678553  0.152255  134.024994   \n",
       "2    -6.577     0.069717          0.003484  0.678553  0.152255  134.024994   \n",
       "3    -6.577     0.069717          0.003484  0.678553  0.152255  134.024994   \n",
       "4    -6.577     0.069717          0.003484  0.678553  0.152255  134.024994   \n",
       "\n",
       "     duration  time_signature  \n",
       "0  180.066666               4  \n",
       "1  180.066666               4  \n",
       "2  180.066666               4  \n",
       "3  180.066666               4  \n",
       "4  180.066666               4  "
      ]
     },
     "execution_count": 35,
     "metadata": {},
     "output_type": "execute_result"
    }
   ],
   "source": [
    "dataset_num.head()"
   ]
  },
  {
   "cell_type": "code",
   "execution_count": 36,
   "metadata": {},
   "outputs": [
    {
     "data": {
      "text/plain": [
       "skip_2                              bool\n",
       "session_position                   int64\n",
       "context_switch                     int64\n",
       "no_pause_before_play               int64\n",
       "hist_user_behavior_n_seekfwd       int64\n",
       "hist_user_behavior_n_seekback      int64\n",
       "hist_user_behavior_is_shuffle       bool\n",
       "hour_of_day                        int64\n",
       "danceability                     float64\n",
       "energy                           float64\n",
       "key                                int64\n",
       "loudness                         float64\n",
       "speechiness                      float64\n",
       "instrumentalness                 float64\n",
       "liveness                         float64\n",
       "valence                          float64\n",
       "tempo                            float64\n",
       "duration                         float64\n",
       "time_signature                     int64\n",
       "dtype: object"
      ]
     },
     "execution_count": 36,
     "metadata": {},
     "output_type": "execute_result"
    }
   ],
   "source": [
    "dataset_num.dtypes"
   ]
  },
  {
   "cell_type": "code",
   "execution_count": 37,
   "metadata": {},
   "outputs": [],
   "source": [
    "dataset_num['duration'] = (dataset_num[\"duration\"]*1000)"
   ]
  },
  {
   "cell_type": "code",
   "execution_count": 38,
   "metadata": {},
   "outputs": [],
   "source": [
    "dataset_num['hist_user_behavior_is_shuffle'] = dataset_num['hist_user_behavior_is_shuffle'].replace({\n",
    "    True: 1,\n",
    "    False: 0\n",
    "})"
   ]
  },
  {
   "cell_type": "code",
   "execution_count": 39,
   "metadata": {},
   "outputs": [
    {
     "data": {
      "text/html": [
       "<div>\n",
       "<style scoped>\n",
       "    .dataframe tbody tr th:only-of-type {\n",
       "        vertical-align: middle;\n",
       "    }\n",
       "\n",
       "    .dataframe tbody tr th {\n",
       "        vertical-align: top;\n",
       "    }\n",
       "\n",
       "    .dataframe thead th {\n",
       "        text-align: right;\n",
       "    }\n",
       "</style>\n",
       "<table border=\"1\" class=\"dataframe\">\n",
       "  <thead>\n",
       "    <tr style=\"text-align: right;\">\n",
       "      <th></th>\n",
       "      <th>skip_2</th>\n",
       "      <th>session_position</th>\n",
       "      <th>context_switch</th>\n",
       "      <th>no_pause_before_play</th>\n",
       "      <th>hist_user_behavior_n_seekfwd</th>\n",
       "      <th>hist_user_behavior_n_seekback</th>\n",
       "      <th>hist_user_behavior_is_shuffle</th>\n",
       "      <th>hour_of_day</th>\n",
       "      <th>danceability</th>\n",
       "      <th>energy</th>\n",
       "      <th>key</th>\n",
       "      <th>loudness</th>\n",
       "      <th>speechiness</th>\n",
       "      <th>instrumentalness</th>\n",
       "      <th>liveness</th>\n",
       "      <th>valence</th>\n",
       "      <th>tempo</th>\n",
       "      <th>duration</th>\n",
       "      <th>time_signature</th>\n",
       "    </tr>\n",
       "  </thead>\n",
       "  <tbody>\n",
       "    <tr>\n",
       "      <th>0</th>\n",
       "      <td>False</td>\n",
       "      <td>1</td>\n",
       "      <td>0</td>\n",
       "      <td>0</td>\n",
       "      <td>0</td>\n",
       "      <td>0</td>\n",
       "      <td>1</td>\n",
       "      <td>16</td>\n",
       "      <td>0.653119</td>\n",
       "      <td>0.553465</td>\n",
       "      <td>1</td>\n",
       "      <td>-6.577</td>\n",
       "      <td>0.069717</td>\n",
       "      <td>0.003484</td>\n",
       "      <td>0.678553</td>\n",
       "      <td>0.152255</td>\n",
       "      <td>134.024994</td>\n",
       "      <td>180066.665649</td>\n",
       "      <td>4</td>\n",
       "    </tr>\n",
       "    <tr>\n",
       "      <th>1</th>\n",
       "      <td>False</td>\n",
       "      <td>7</td>\n",
       "      <td>0</td>\n",
       "      <td>0</td>\n",
       "      <td>0</td>\n",
       "      <td>0</td>\n",
       "      <td>0</td>\n",
       "      <td>17</td>\n",
       "      <td>0.653119</td>\n",
       "      <td>0.553465</td>\n",
       "      <td>1</td>\n",
       "      <td>-6.577</td>\n",
       "      <td>0.069717</td>\n",
       "      <td>0.003484</td>\n",
       "      <td>0.678553</td>\n",
       "      <td>0.152255</td>\n",
       "      <td>134.024994</td>\n",
       "      <td>180066.665649</td>\n",
       "      <td>4</td>\n",
       "    </tr>\n",
       "    <tr>\n",
       "      <th>2</th>\n",
       "      <td>False</td>\n",
       "      <td>6</td>\n",
       "      <td>0</td>\n",
       "      <td>0</td>\n",
       "      <td>0</td>\n",
       "      <td>0</td>\n",
       "      <td>0</td>\n",
       "      <td>21</td>\n",
       "      <td>0.653119</td>\n",
       "      <td>0.553465</td>\n",
       "      <td>1</td>\n",
       "      <td>-6.577</td>\n",
       "      <td>0.069717</td>\n",
       "      <td>0.003484</td>\n",
       "      <td>0.678553</td>\n",
       "      <td>0.152255</td>\n",
       "      <td>134.024994</td>\n",
       "      <td>180066.665649</td>\n",
       "      <td>4</td>\n",
       "    </tr>\n",
       "    <tr>\n",
       "      <th>3</th>\n",
       "      <td>False</td>\n",
       "      <td>9</td>\n",
       "      <td>0</td>\n",
       "      <td>1</td>\n",
       "      <td>0</td>\n",
       "      <td>0</td>\n",
       "      <td>0</td>\n",
       "      <td>18</td>\n",
       "      <td>0.653119</td>\n",
       "      <td>0.553465</td>\n",
       "      <td>1</td>\n",
       "      <td>-6.577</td>\n",
       "      <td>0.069717</td>\n",
       "      <td>0.003484</td>\n",
       "      <td>0.678553</td>\n",
       "      <td>0.152255</td>\n",
       "      <td>134.024994</td>\n",
       "      <td>180066.665649</td>\n",
       "      <td>4</td>\n",
       "    </tr>\n",
       "    <tr>\n",
       "      <th>4</th>\n",
       "      <td>False</td>\n",
       "      <td>7</td>\n",
       "      <td>0</td>\n",
       "      <td>0</td>\n",
       "      <td>0</td>\n",
       "      <td>0</td>\n",
       "      <td>1</td>\n",
       "      <td>19</td>\n",
       "      <td>0.653119</td>\n",
       "      <td>0.553465</td>\n",
       "      <td>1</td>\n",
       "      <td>-6.577</td>\n",
       "      <td>0.069717</td>\n",
       "      <td>0.003484</td>\n",
       "      <td>0.678553</td>\n",
       "      <td>0.152255</td>\n",
       "      <td>134.024994</td>\n",
       "      <td>180066.665649</td>\n",
       "      <td>4</td>\n",
       "    </tr>\n",
       "  </tbody>\n",
       "</table>\n",
       "</div>"
      ],
      "text/plain": [
       "   skip_2  session_position  context_switch  no_pause_before_play  \\\n",
       "0   False                 1               0                     0   \n",
       "1   False                 7               0                     0   \n",
       "2   False                 6               0                     0   \n",
       "3   False                 9               0                     1   \n",
       "4   False                 7               0                     0   \n",
       "\n",
       "   hist_user_behavior_n_seekfwd  hist_user_behavior_n_seekback  \\\n",
       "0                             0                              0   \n",
       "1                             0                              0   \n",
       "2                             0                              0   \n",
       "3                             0                              0   \n",
       "4                             0                              0   \n",
       "\n",
       "   hist_user_behavior_is_shuffle  hour_of_day  danceability    energy  key  \\\n",
       "0                              1           16      0.653119  0.553465    1   \n",
       "1                              0           17      0.653119  0.553465    1   \n",
       "2                              0           21      0.653119  0.553465    1   \n",
       "3                              0           18      0.653119  0.553465    1   \n",
       "4                              1           19      0.653119  0.553465    1   \n",
       "\n",
       "   loudness  speechiness  instrumentalness  liveness   valence       tempo  \\\n",
       "0    -6.577     0.069717          0.003484  0.678553  0.152255  134.024994   \n",
       "1    -6.577     0.069717          0.003484  0.678553  0.152255  134.024994   \n",
       "2    -6.577     0.069717          0.003484  0.678553  0.152255  134.024994   \n",
       "3    -6.577     0.069717          0.003484  0.678553  0.152255  134.024994   \n",
       "4    -6.577     0.069717          0.003484  0.678553  0.152255  134.024994   \n",
       "\n",
       "        duration  time_signature  \n",
       "0  180066.665649               4  \n",
       "1  180066.665649               4  \n",
       "2  180066.665649               4  \n",
       "3  180066.665649               4  \n",
       "4  180066.665649               4  "
      ]
     },
     "execution_count": 39,
     "metadata": {},
     "output_type": "execute_result"
    }
   ],
   "source": [
    "dataset_num.head()"
   ]
  },
  {
   "cell_type": "markdown",
   "metadata": {},
   "source": [
    "### Concatenate our categorical dataset and numerical dataset"
   ]
  },
  {
   "cell_type": "code",
   "execution_count": 40,
   "metadata": {},
   "outputs": [],
   "source": [
    "final_dataset = pd.concat([dataset_cat,dataset_num],axis=1)"
   ]
  },
  {
   "cell_type": "code",
   "execution_count": 41,
   "metadata": {},
   "outputs": [
    {
     "data": {
      "text/html": [
       "<div>\n",
       "<style scoped>\n",
       "    .dataframe tbody tr th:only-of-type {\n",
       "        vertical-align: middle;\n",
       "    }\n",
       "\n",
       "    .dataframe tbody tr th {\n",
       "        vertical-align: top;\n",
       "    }\n",
       "\n",
       "    .dataframe thead th {\n",
       "        text-align: right;\n",
       "    }\n",
       "</style>\n",
       "<table border=\"1\" class=\"dataframe\">\n",
       "  <thead>\n",
       "    <tr style=\"text-align: right;\">\n",
       "      <th></th>\n",
       "      <th>context_type</th>\n",
       "      <th>hist_user_behavior_reason_start</th>\n",
       "      <th>hist_user_behavior_reason_end</th>\n",
       "      <th>mode</th>\n",
       "      <th>skip_2</th>\n",
       "      <th>session_position</th>\n",
       "      <th>context_switch</th>\n",
       "      <th>no_pause_before_play</th>\n",
       "      <th>hist_user_behavior_n_seekfwd</th>\n",
       "      <th>hist_user_behavior_n_seekback</th>\n",
       "      <th>hist_user_behavior_is_shuffle</th>\n",
       "      <th>hour_of_day</th>\n",
       "      <th>danceability</th>\n",
       "      <th>energy</th>\n",
       "      <th>key</th>\n",
       "      <th>loudness</th>\n",
       "      <th>speechiness</th>\n",
       "      <th>instrumentalness</th>\n",
       "      <th>liveness</th>\n",
       "      <th>valence</th>\n",
       "      <th>tempo</th>\n",
       "      <th>duration</th>\n",
       "      <th>time_signature</th>\n",
       "    </tr>\n",
       "  </thead>\n",
       "  <tbody>\n",
       "    <tr>\n",
       "      <th>0</th>\n",
       "      <td>1</td>\n",
       "      <td>1</td>\n",
       "      <td>1</td>\n",
       "      <td>1</td>\n",
       "      <td>False</td>\n",
       "      <td>1</td>\n",
       "      <td>0</td>\n",
       "      <td>0</td>\n",
       "      <td>0</td>\n",
       "      <td>0</td>\n",
       "      <td>1</td>\n",
       "      <td>16</td>\n",
       "      <td>0.653119</td>\n",
       "      <td>0.553465</td>\n",
       "      <td>1</td>\n",
       "      <td>-6.577</td>\n",
       "      <td>0.069717</td>\n",
       "      <td>0.003484</td>\n",
       "      <td>0.678553</td>\n",
       "      <td>0.152255</td>\n",
       "      <td>134.024994</td>\n",
       "      <td>180066.665649</td>\n",
       "      <td>4</td>\n",
       "    </tr>\n",
       "    <tr>\n",
       "      <th>1</th>\n",
       "      <td>1</td>\n",
       "      <td>2</td>\n",
       "      <td>4</td>\n",
       "      <td>1</td>\n",
       "      <td>False</td>\n",
       "      <td>7</td>\n",
       "      <td>0</td>\n",
       "      <td>0</td>\n",
       "      <td>0</td>\n",
       "      <td>0</td>\n",
       "      <td>0</td>\n",
       "      <td>17</td>\n",
       "      <td>0.653119</td>\n",
       "      <td>0.553465</td>\n",
       "      <td>1</td>\n",
       "      <td>-6.577</td>\n",
       "      <td>0.069717</td>\n",
       "      <td>0.003484</td>\n",
       "      <td>0.678553</td>\n",
       "      <td>0.152255</td>\n",
       "      <td>134.024994</td>\n",
       "      <td>180066.665649</td>\n",
       "      <td>4</td>\n",
       "    </tr>\n",
       "    <tr>\n",
       "      <th>2</th>\n",
       "      <td>2</td>\n",
       "      <td>1</td>\n",
       "      <td>1</td>\n",
       "      <td>1</td>\n",
       "      <td>False</td>\n",
       "      <td>6</td>\n",
       "      <td>0</td>\n",
       "      <td>0</td>\n",
       "      <td>0</td>\n",
       "      <td>0</td>\n",
       "      <td>0</td>\n",
       "      <td>21</td>\n",
       "      <td>0.653119</td>\n",
       "      <td>0.553465</td>\n",
       "      <td>1</td>\n",
       "      <td>-6.577</td>\n",
       "      <td>0.069717</td>\n",
       "      <td>0.003484</td>\n",
       "      <td>0.678553</td>\n",
       "      <td>0.152255</td>\n",
       "      <td>134.024994</td>\n",
       "      <td>180066.665649</td>\n",
       "      <td>4</td>\n",
       "    </tr>\n",
       "    <tr>\n",
       "      <th>3</th>\n",
       "      <td>1</td>\n",
       "      <td>2</td>\n",
       "      <td>1</td>\n",
       "      <td>1</td>\n",
       "      <td>False</td>\n",
       "      <td>9</td>\n",
       "      <td>0</td>\n",
       "      <td>1</td>\n",
       "      <td>0</td>\n",
       "      <td>0</td>\n",
       "      <td>0</td>\n",
       "      <td>18</td>\n",
       "      <td>0.653119</td>\n",
       "      <td>0.553465</td>\n",
       "      <td>1</td>\n",
       "      <td>-6.577</td>\n",
       "      <td>0.069717</td>\n",
       "      <td>0.003484</td>\n",
       "      <td>0.678553</td>\n",
       "      <td>0.152255</td>\n",
       "      <td>134.024994</td>\n",
       "      <td>180066.665649</td>\n",
       "      <td>4</td>\n",
       "    </tr>\n",
       "    <tr>\n",
       "      <th>4</th>\n",
       "      <td>1</td>\n",
       "      <td>1</td>\n",
       "      <td>2</td>\n",
       "      <td>1</td>\n",
       "      <td>False</td>\n",
       "      <td>7</td>\n",
       "      <td>0</td>\n",
       "      <td>0</td>\n",
       "      <td>0</td>\n",
       "      <td>0</td>\n",
       "      <td>1</td>\n",
       "      <td>19</td>\n",
       "      <td>0.653119</td>\n",
       "      <td>0.553465</td>\n",
       "      <td>1</td>\n",
       "      <td>-6.577</td>\n",
       "      <td>0.069717</td>\n",
       "      <td>0.003484</td>\n",
       "      <td>0.678553</td>\n",
       "      <td>0.152255</td>\n",
       "      <td>134.024994</td>\n",
       "      <td>180066.665649</td>\n",
       "      <td>4</td>\n",
       "    </tr>\n",
       "  </tbody>\n",
       "</table>\n",
       "</div>"
      ],
      "text/plain": [
       "   context_type  hist_user_behavior_reason_start  \\\n",
       "0             1                                1   \n",
       "1             1                                2   \n",
       "2             2                                1   \n",
       "3             1                                2   \n",
       "4             1                                1   \n",
       "\n",
       "   hist_user_behavior_reason_end  mode  skip_2  session_position  \\\n",
       "0                              1     1   False                 1   \n",
       "1                              4     1   False                 7   \n",
       "2                              1     1   False                 6   \n",
       "3                              1     1   False                 9   \n",
       "4                              2     1   False                 7   \n",
       "\n",
       "   context_switch  no_pause_before_play  hist_user_behavior_n_seekfwd  \\\n",
       "0               0                     0                             0   \n",
       "1               0                     0                             0   \n",
       "2               0                     0                             0   \n",
       "3               0                     1                             0   \n",
       "4               0                     0                             0   \n",
       "\n",
       "   hist_user_behavior_n_seekback  hist_user_behavior_is_shuffle  hour_of_day  \\\n",
       "0                              0                              1           16   \n",
       "1                              0                              0           17   \n",
       "2                              0                              0           21   \n",
       "3                              0                              0           18   \n",
       "4                              0                              1           19   \n",
       "\n",
       "   danceability    energy  key  loudness  speechiness  instrumentalness  \\\n",
       "0      0.653119  0.553465    1    -6.577     0.069717          0.003484   \n",
       "1      0.653119  0.553465    1    -6.577     0.069717          0.003484   \n",
       "2      0.653119  0.553465    1    -6.577     0.069717          0.003484   \n",
       "3      0.653119  0.553465    1    -6.577     0.069717          0.003484   \n",
       "4      0.653119  0.553465    1    -6.577     0.069717          0.003484   \n",
       "\n",
       "   liveness   valence       tempo       duration  time_signature  \n",
       "0  0.678553  0.152255  134.024994  180066.665649               4  \n",
       "1  0.678553  0.152255  134.024994  180066.665649               4  \n",
       "2  0.678553  0.152255  134.024994  180066.665649               4  \n",
       "3  0.678553  0.152255  134.024994  180066.665649               4  \n",
       "4  0.678553  0.152255  134.024994  180066.665649               4  "
      ]
     },
     "execution_count": 41,
     "metadata": {},
     "output_type": "execute_result"
    }
   ],
   "source": [
    "final_dataset.head()"
   ]
  },
  {
   "cell_type": "code",
   "execution_count": 53,
   "metadata": {},
   "outputs": [
    {
     "data": {
      "text/plain": [
       "(167880, 23)"
      ]
     },
     "execution_count": 53,
     "metadata": {},
     "output_type": "execute_result"
    }
   ],
   "source": [
    "final_dataset.shape"
   ]
  },
  {
   "cell_type": "markdown",
   "metadata": {},
   "source": [
    "### 4- Machine Learning Algorithm"
   ]
  },
  {
   "cell_type": "markdown",
   "metadata": {},
   "source": [
    "### a- Light GBM"
   ]
  },
  {
   "cell_type": "code",
   "execution_count": 4,
   "metadata": {},
   "outputs": [
    {
     "name": "stdout",
     "output_type": "stream",
     "text": [
      "Requirement already satisfied: lightGBM in c:\\users\\lenovo\\anaconda3\\lib\\site-packages (3.3.1)\n",
      "Requirement already satisfied: wheel in c:\\users\\lenovo\\appdata\\roaming\\python\\python37\\site-packages (from lightGBM) (0.37.0)\n",
      "Requirement already satisfied: scikit-learn!=0.22.0 in c:\\users\\lenovo\\appdata\\roaming\\python\\python37\\site-packages (from lightGBM) (0.24.2)\n",
      "Requirement already satisfied: scipy in c:\\users\\lenovo\\anaconda3\\lib\\site-packages (from lightGBM) (1.4.1)\n",
      "Requirement already satisfied: numpy in c:\\users\\lenovo\\appdata\\roaming\\python\\python37\\site-packages (from lightGBM) (1.19.5)\n",
      "Requirement already satisfied: threadpoolctl>=2.0.0 in c:\\users\\lenovo\\appdata\\roaming\\python\\python37\\site-packages (from scikit-learn!=0.22.0->lightGBM) (2.2.0)\n",
      "Requirement already satisfied: joblib>=0.11 in c:\\users\\lenovo\\anaconda3\\lib\\site-packages (from scikit-learn!=0.22.0->lightGBM) (0.13.2)\n"
     ]
    }
   ],
   "source": [
    "!pip install lightGBM"
   ]
  },
  {
   "cell_type": "code",
   "execution_count": 42,
   "metadata": {},
   "outputs": [],
   "source": [
    "from sklearn.model_selection import train_test_split\n",
    "from sklearn.metrics import f1_score, confusion_matrix, accuracy_score, roc_auc_score\n",
    "from datetime import datetime\n",
    "import lightgbm as lgb"
   ]
  },
  {
   "cell_type": "code",
   "execution_count": 54,
   "metadata": {},
   "outputs": [],
   "source": [
    "X = final_dataset.drop(['skip_2'],axis = \"columns\")\n",
    "Y = final_dataset.skip_2"
   ]
  },
  {
   "cell_type": "code",
   "execution_count": 55,
   "metadata": {},
   "outputs": [],
   "source": [
    "X_train, X_test, y_train, y_test = train_test_split(X,Y,test_size=0.25,random_state=42)"
   ]
  },
  {
   "cell_type": "code",
   "execution_count": 56,
   "metadata": {},
   "outputs": [],
   "source": [
    "train_data = lgb.Dataset(X_train,label=y_train)"
   ]
  },
  {
   "cell_type": "code",
   "execution_count": 61,
   "metadata": {},
   "outputs": [],
   "source": [
    "#setting parameters for lightgbm\n",
    "lgbm_params = {'learning_rate':0.23, 'boosting_type':'dart',\n",
    "              'objective':'binary',\n",
    "              'metric':['auc', 'binary_logloss'],\n",
    "              'num_leaves':2500,\n",
    "              'max_depth':5,\n",
    "              \"min_data_in_leaf\": 200,\n",
    "              \"lambda_l1\": 15,\n",
    "              \"lambda_l2\": 70,\n",
    "              \"min_gain_to_split\": 2,\n",
    "              \"bagging_fraction\": 0.7,\n",
    "              \"bagging_freq\": 1,\n",
    "              \"feature_fraction\": 0.9}"
   ]
  },
  {
   "cell_type": "code",
   "execution_count": 62,
   "metadata": {},
   "outputs": [
    {
     "name": "stdout",
     "output_type": "stream",
     "text": [
      "[LightGBM] [Info] Number of positive: 65065, number of negative: 60845\n",
      "[LightGBM] [Warning] Auto-choosing row-wise multi-threading, the overhead of testing was 0.004581 seconds.\n",
      "You can set `force_row_wise=true` to remove the overhead.\n",
      "And if memory is not enough, you can set `force_col_wise=true`.\n",
      "[LightGBM] [Info] Total Bins 2425\n",
      "[LightGBM] [Info] Number of data points in the train set: 125910, number of used features: 22\n",
      "[LightGBM] [Info] [binary:BoostFromScore]: pavg=0.516758 -> initscore=0.067057\n",
      "[LightGBM] [Info] Start training from score 0.067057\n",
      "[LightGBM] [Warning] No further splits with positive gain, best gain: -inf\n",
      "[LightGBM] [Warning] No further splits with positive gain, best gain: -inf\n",
      "[LightGBM] [Warning] No further splits with positive gain, best gain: -inf\n",
      "[LightGBM] [Warning] No further splits with positive gain, best gain: -inf\n",
      "[LightGBM] [Warning] No further splits with positive gain, best gain: -inf\n",
      "[LightGBM] [Warning] No further splits with positive gain, best gain: -inf\n",
      "[LightGBM] [Warning] No further splits with positive gain, best gain: -inf\n",
      "[LightGBM] [Warning] No further splits with positive gain, best gain: -inf\n",
      "[LightGBM] [Warning] No further splits with positive gain, best gain: -inf\n",
      "[LightGBM] [Warning] No further splits with positive gain, best gain: -inf\n",
      "[LightGBM] [Warning] No further splits with positive gain, best gain: -inf\n",
      "[LightGBM] [Warning] No further splits with positive gain, best gain: -inf\n",
      "[LightGBM] [Warning] No further splits with positive gain, best gain: -inf\n",
      "[LightGBM] [Warning] No further splits with positive gain, best gain: -inf\n",
      "[LightGBM] [Warning] No further splits with positive gain, best gain: -inf\n",
      "[LightGBM] [Warning] No further splits with positive gain, best gain: -inf\n",
      "[LightGBM] [Warning] No further splits with positive gain, best gain: -inf\n",
      "[LightGBM] [Warning] No further splits with positive gain, best gain: -inf\n",
      "[LightGBM] [Warning] No further splits with positive gain, best gain: -inf\n",
      "[LightGBM] [Warning] No further splits with positive gain, best gain: -inf\n",
      "[LightGBM] [Warning] No further splits with positive gain, best gain: -inf\n",
      "[LightGBM] [Warning] No further splits with positive gain, best gain: -inf\n",
      "[LightGBM] [Warning] No further splits with positive gain, best gain: -inf\n",
      "[LightGBM] [Warning] No further splits with positive gain, best gain: -inf\n",
      "[LightGBM] [Warning] No further splits with positive gain, best gain: -inf\n",
      "[LightGBM] [Warning] No further splits with positive gain, best gain: -inf\n",
      "[LightGBM] [Warning] No further splits with positive gain, best gain: -inf\n",
      "[LightGBM] [Warning] No further splits with positive gain, best gain: -inf\n",
      "[LightGBM] [Warning] No further splits with positive gain, best gain: -inf\n",
      "[LightGBM] [Warning] No further splits with positive gain, best gain: -inf\n",
      "[LightGBM] [Warning] No further splits with positive gain, best gain: -inf\n",
      "[LightGBM] [Warning] No further splits with positive gain, best gain: -inf\n",
      "[LightGBM] [Warning] No further splits with positive gain, best gain: -inf\n",
      "[LightGBM] [Warning] No further splits with positive gain, best gain: -inf\n",
      "[LightGBM] [Warning] No further splits with positive gain, best gain: -inf\n",
      "[LightGBM] [Warning] No further splits with positive gain, best gain: -inf\n",
      "[LightGBM] [Warning] No further splits with positive gain, best gain: -inf\n",
      "[LightGBM] [Warning] No further splits with positive gain, best gain: -inf\n",
      "[LightGBM] [Warning] No further splits with positive gain, best gain: -inf\n",
      "[LightGBM] [Warning] No further splits with positive gain, best gain: -inf\n",
      "[LightGBM] [Warning] No further splits with positive gain, best gain: -inf\n",
      "[LightGBM] [Warning] No further splits with positive gain, best gain: -inf\n",
      "[LightGBM] [Warning] No further splits with positive gain, best gain: -inf\n",
      "[LightGBM] [Warning] No further splits with positive gain, best gain: -inf\n",
      "[LightGBM] [Warning] No further splits with positive gain, best gain: -inf\n",
      "[LightGBM] [Warning] No further splits with positive gain, best gain: -inf\n",
      "[LightGBM] [Warning] No further splits with positive gain, best gain: -inf\n",
      "[LightGBM] [Warning] No further splits with positive gain, best gain: -inf\n",
      "[LightGBM] [Warning] No further splits with positive gain, best gain: -inf\n",
      "[LightGBM] [Warning] No further splits with positive gain, best gain: -inf\n",
      "[LightGBM] [Warning] No further splits with positive gain, best gain: -inf\n",
      "[LightGBM] [Warning] No further splits with positive gain, best gain: -inf\n",
      "[LightGBM] [Warning] No further splits with positive gain, best gain: -inf\n",
      "[LightGBM] [Warning] No further splits with positive gain, best gain: -inf\n",
      "[LightGBM] [Warning] No further splits with positive gain, best gain: -inf\n",
      "[LightGBM] [Warning] No further splits with positive gain, best gain: -inf\n",
      "[LightGBM] [Warning] No further splits with positive gain, best gain: -inf\n",
      "[LightGBM] [Warning] No further splits with positive gain, best gain: -inf\n",
      "[LightGBM] [Warning] No further splits with positive gain, best gain: -inf\n",
      "[LightGBM] [Warning] No further splits with positive gain, best gain: -inf\n",
      "[LightGBM] [Warning] No further splits with positive gain, best gain: -inf\n",
      "[LightGBM] [Warning] No further splits with positive gain, best gain: -inf\n",
      "[LightGBM] [Warning] No further splits with positive gain, best gain: -inf\n",
      "[LightGBM] [Warning] No further splits with positive gain, best gain: -inf\n",
      "[LightGBM] [Warning] No further splits with positive gain, best gain: -inf\n",
      "[LightGBM] [Warning] No further splits with positive gain, best gain: -inf\n",
      "[LightGBM] [Warning] No further splits with positive gain, best gain: -inf\n",
      "[LightGBM] [Warning] No further splits with positive gain, best gain: -inf\n",
      "[LightGBM] [Warning] No further splits with positive gain, best gain: -inf\n",
      "[LightGBM] [Warning] No further splits with positive gain, best gain: -inf\n",
      "[LightGBM] [Warning] No further splits with positive gain, best gain: -inf\n",
      "[LightGBM] [Warning] No further splits with positive gain, best gain: -inf\n",
      "[LightGBM] [Warning] No further splits with positive gain, best gain: -inf\n",
      "[LightGBM] [Warning] No further splits with positive gain, best gain: -inf\n",
      "[LightGBM] [Warning] No further splits with positive gain, best gain: -inf\n",
      "[LightGBM] [Warning] No further splits with positive gain, best gain: -inf\n",
      "[LightGBM] [Warning] No further splits with positive gain, best gain: -inf\n",
      "[LightGBM] [Warning] No further splits with positive gain, best gain: -inf\n",
      "[LightGBM] [Warning] No further splits with positive gain, best gain: -inf\n",
      "[LightGBM] [Warning] No further splits with positive gain, best gain: -inf\n",
      "[LightGBM] [Warning] No further splits with positive gain, best gain: -inf\n",
      "[LightGBM] [Warning] No further splits with positive gain, best gain: -inf\n",
      "[LightGBM] [Warning] No further splits with positive gain, best gain: -inf\n",
      "[LightGBM] [Warning] No further splits with positive gain, best gain: -inf\n",
      "[LightGBM] [Warning] No further splits with positive gain, best gain: -inf\n",
      "[LightGBM] [Warning] No further splits with positive gain, best gain: -inf\n",
      "[LightGBM] [Warning] No further splits with positive gain, best gain: -inf\n",
      "[LightGBM] [Warning] No further splits with positive gain, best gain: -inf\n",
      "[LightGBM] [Warning] No further splits with positive gain, best gain: -inf\n",
      "[LightGBM] [Warning] No further splits with positive gain, best gain: -inf\n",
      "[LightGBM] [Warning] No further splits with positive gain, best gain: -inf\n",
      "[LightGBM] [Warning] No further splits with positive gain, best gain: -inf\n",
      "[LightGBM] [Warning] No further splits with positive gain, best gain: -inf\n",
      "[LightGBM] [Warning] No further splits with positive gain, best gain: -inf\n",
      "[LightGBM] [Warning] No further splits with positive gain, best gain: -inf\n",
      "[LightGBM] [Warning] No further splits with positive gain, best gain: -inf\n",
      "[LightGBM] [Warning] No further splits with positive gain, best gain: -inf\n",
      "[LightGBM] [Warning] No further splits with positive gain, best gain: -inf\n",
      "[LightGBM] [Warning] No further splits with positive gain, best gain: -inf\n",
      "[LightGBM] [Warning] No further splits with positive gain, best gain: -inf\n",
      "[LightGBM] [Warning] No further splits with positive gain, best gain: -inf\n",
      "[LightGBM] [Warning] No further splits with positive gain, best gain: -inf\n",
      "[LightGBM] [Warning] No further splits with positive gain, best gain: -inf\n",
      "[LightGBM] [Warning] No further splits with positive gain, best gain: -inf\n",
      "[LightGBM] [Warning] No further splits with positive gain, best gain: -inf\n",
      "[LightGBM] [Warning] No further splits with positive gain, best gain: -inf\n",
      "[LightGBM] [Warning] No further splits with positive gain, best gain: -inf\n",
      "[LightGBM] [Warning] No further splits with positive gain, best gain: -inf\n",
      "[LightGBM] [Warning] No further splits with positive gain, best gain: -inf\n",
      "[LightGBM] [Warning] No further splits with positive gain, best gain: -inf\n",
      "[LightGBM] [Warning] No further splits with positive gain, best gain: -inf\n",
      "[LightGBM] [Warning] No further splits with positive gain, best gain: -inf\n",
      "[LightGBM] [Warning] No further splits with positive gain, best gain: -inf\n",
      "[LightGBM] [Warning] No further splits with positive gain, best gain: -inf\n",
      "[LightGBM] [Warning] No further splits with positive gain, best gain: -inf\n",
      "[LightGBM] [Warning] No further splits with positive gain, best gain: -inf\n",
      "[LightGBM] [Warning] No further splits with positive gain, best gain: -inf\n",
      "[LightGBM] [Warning] No further splits with positive gain, best gain: -inf\n",
      "[LightGBM] [Warning] No further splits with positive gain, best gain: -inf\n",
      "[LightGBM] [Warning] No further splits with positive gain, best gain: -inf\n",
      "[LightGBM] [Warning] No further splits with positive gain, best gain: -inf\n",
      "[LightGBM] [Warning] No further splits with positive gain, best gain: -inf\n",
      "[LightGBM] [Warning] No further splits with positive gain, best gain: -inf\n",
      "[LightGBM] [Warning] No further splits with positive gain, best gain: -inf\n",
      "[LightGBM] [Warning] No further splits with positive gain, best gain: -inf\n",
      "[LightGBM] [Warning] No further splits with positive gain, best gain: -inf\n",
      "[LightGBM] [Warning] No further splits with positive gain, best gain: -inf\n",
      "[LightGBM] [Warning] No further splits with positive gain, best gain: -inf\n",
      "[LightGBM] [Warning] No further splits with positive gain, best gain: -inf\n",
      "[LightGBM] [Warning] No further splits with positive gain, best gain: -inf\n",
      "[LightGBM] [Warning] No further splits with positive gain, best gain: -inf\n",
      "[LightGBM] [Warning] No further splits with positive gain, best gain: -inf\n",
      "[LightGBM] [Warning] No further splits with positive gain, best gain: -inf\n",
      "[LightGBM] [Warning] No further splits with positive gain, best gain: -inf\n",
      "[LightGBM] [Warning] No further splits with positive gain, best gain: -inf\n",
      "[LightGBM] [Warning] No further splits with positive gain, best gain: -inf\n",
      "[LightGBM] [Warning] No further splits with positive gain, best gain: -inf\n",
      "[LightGBM] [Warning] No further splits with positive gain, best gain: -inf\n",
      "[LightGBM] [Warning] No further splits with positive gain, best gain: -inf\n",
      "[LightGBM] [Warning] No further splits with positive gain, best gain: -inf\n",
      "[LightGBM] [Warning] No further splits with positive gain, best gain: -inf\n",
      "[LightGBM] [Warning] No further splits with positive gain, best gain: -inf\n",
      "[LightGBM] [Warning] No further splits with positive gain, best gain: -inf\n",
      "[LightGBM] [Warning] No further splits with positive gain, best gain: -inf\n",
      "[LightGBM] [Warning] No further splits with positive gain, best gain: -inf\n",
      "[LightGBM] [Warning] No further splits with positive gain, best gain: -inf\n",
      "[LightGBM] [Warning] No further splits with positive gain, best gain: -inf\n",
      "[LightGBM] [Warning] No further splits with positive gain, best gain: -inf\n",
      "[LightGBM] [Warning] No further splits with positive gain, best gain: -inf\n",
      "[LightGBM] [Warning] No further splits with positive gain, best gain: -inf\n",
      "[LightGBM] [Warning] No further splits with positive gain, best gain: -inf\n",
      "[LightGBM] [Warning] No further splits with positive gain, best gain: -inf\n",
      "[LightGBM] [Warning] No further splits with positive gain, best gain: -inf\n",
      "[LightGBM] [Warning] No further splits with positive gain, best gain: -inf\n",
      "[LightGBM] [Warning] No further splits with positive gain, best gain: -inf\n",
      "[LightGBM] [Warning] No further splits with positive gain, best gain: -inf\n",
      "[LightGBM] [Warning] No further splits with positive gain, best gain: -inf\n",
      "[LightGBM] [Warning] No further splits with positive gain, best gain: -inf\n",
      "[LightGBM] [Warning] No further splits with positive gain, best gain: -inf\n",
      "[LightGBM] [Warning] No further splits with positive gain, best gain: -inf\n",
      "[LightGBM] [Warning] No further splits with positive gain, best gain: -inf\n",
      "[LightGBM] [Warning] No further splits with positive gain, best gain: -inf\n",
      "[LightGBM] [Warning] No further splits with positive gain, best gain: -inf\n",
      "[LightGBM] [Warning] No further splits with positive gain, best gain: -inf\n",
      "[LightGBM] [Warning] No further splits with positive gain, best gain: -inf\n",
      "[LightGBM] [Warning] No further splits with positive gain, best gain: -inf\n",
      "[LightGBM] [Warning] No further splits with positive gain, best gain: -inf\n",
      "[LightGBM] [Warning] No further splits with positive gain, best gain: -inf\n",
      "[LightGBM] [Warning] No further splits with positive gain, best gain: -inf\n",
      "[LightGBM] [Warning] No further splits with positive gain, best gain: -inf\n",
      "[LightGBM] [Warning] No further splits with positive gain, best gain: -inf\n",
      "[LightGBM] [Warning] No further splits with positive gain, best gain: -inf\n",
      "[LightGBM] [Warning] No further splits with positive gain, best gain: -inf\n",
      "[LightGBM] [Warning] No further splits with positive gain, best gain: -inf\n",
      "[LightGBM] [Warning] No further splits with positive gain, best gain: -inf\n",
      "[LightGBM] [Warning] No further splits with positive gain, best gain: -inf\n",
      "[LightGBM] [Warning] No further splits with positive gain, best gain: -inf\n",
      "[LightGBM] [Warning] No further splits with positive gain, best gain: -inf\n",
      "[LightGBM] [Warning] No further splits with positive gain, best gain: -inf\n",
      "[LightGBM] [Warning] No further splits with positive gain, best gain: -inf\n",
      "[LightGBM] [Warning] No further splits with positive gain, best gain: -inf\n",
      "[LightGBM] [Warning] No further splits with positive gain, best gain: -inf\n",
      "[LightGBM] [Warning] No further splits with positive gain, best gain: -inf\n",
      "[LightGBM] [Warning] No further splits with positive gain, best gain: -inf\n",
      "[LightGBM] [Warning] No further splits with positive gain, best gain: -inf\n",
      "[LightGBM] [Warning] No further splits with positive gain, best gain: -inf\n",
      "[LightGBM] [Warning] No further splits with positive gain, best gain: -inf\n",
      "[LightGBM] [Warning] No further splits with positive gain, best gain: -inf\n",
      "[LightGBM] [Warning] No further splits with positive gain, best gain: -inf\n",
      "[LightGBM] [Warning] No further splits with positive gain, best gain: -inf\n",
      "[LightGBM] [Warning] No further splits with positive gain, best gain: -inf\n",
      "[LightGBM] [Warning] No further splits with positive gain, best gain: -inf\n",
      "[LightGBM] [Warning] No further splits with positive gain, best gain: -inf\n",
      "[LightGBM] [Warning] No further splits with positive gain, best gain: -inf\n",
      "[LightGBM] [Warning] No further splits with positive gain, best gain: -inf\n",
      "[LightGBM] [Warning] No further splits with positive gain, best gain: -inf\n",
      "[LightGBM] [Warning] No further splits with positive gain, best gain: -inf\n",
      "[LightGBM] [Warning] No further splits with positive gain, best gain: -inf\n",
      "[LightGBM] [Warning] No further splits with positive gain, best gain: -inf\n",
      "[LightGBM] [Warning] No further splits with positive gain, best gain: -inf\n"
     ]
    }
   ],
   "source": [
    "#training our model using light gbm\n",
    "start = datetime.now()\n",
    "lgbm = lgb.train(lgbm_params,train_data,200)\n",
    "stop = datetime.now()"
   ]
  },
  {
   "cell_type": "code",
   "execution_count": 63,
   "metadata": {},
   "outputs": [
    {
     "data": {
      "text/plain": [
       "datetime.timedelta(seconds=6, microseconds=769705)"
      ]
     },
     "execution_count": 63,
     "metadata": {},
     "output_type": "execute_result"
    }
   ],
   "source": [
    "#Execution time of the model\n",
    "execution_time_lgbm = stop-start\n",
    "execution_time_lgbm"
   ]
  },
  {
   "cell_type": "code",
   "execution_count": 64,
   "metadata": {},
   "outputs": [
    {
     "data": {
      "text/plain": [
       "array([0.90100731, 0.00356613, 0.00287499, 0.92843382, 0.00373396,\n",
       "       0.98471744, 0.00210118, 0.72954598, 0.64225662, 0.82322959,\n",
       "       0.91203337, 0.00202466, 0.00352556, 0.73227283, 0.00882994,\n",
       "       0.45653535, 0.55244712, 0.49858645, 0.00211577, 0.01397382])"
      ]
     },
     "execution_count": 64,
     "metadata": {},
     "output_type": "execute_result"
    }
   ],
   "source": [
    "#predicting on test set\n",
    "yprediction = lgbm.predict(X_test)\n",
    "yprediction[0:20]  # showing first 20 predictions"
   ]
  },
  {
   "cell_type": "code",
   "execution_count": 113,
   "metadata": {},
   "outputs": [
    {
     "data": {
      "text/plain": [
       "(41970,)"
      ]
     },
     "execution_count": 113,
     "metadata": {},
     "output_type": "execute_result"
    }
   ],
   "source": [
    "yprediction.shape"
   ]
  },
  {
   "cell_type": "code",
   "execution_count": 114,
   "metadata": {},
   "outputs": [],
   "source": [
    "for i in range(0,41970):\n",
    "    if yprediction[i]>=0.5:\n",
    "        yprediction[i]=1\n",
    "    else:\n",
    "        yprediction[i]=0"
   ]
  },
  {
   "cell_type": "code",
   "execution_count": 117,
   "metadata": {},
   "outputs": [
    {
     "data": {
      "text/plain": [
       "0.8823445318084346"
      ]
     },
     "execution_count": 117,
     "metadata": {},
     "output_type": "execute_result"
    }
   ],
   "source": [
    "# Calculating accuracy\n",
    "accuracy_lgbm = accuracy_score(yprediction,y_test)\n",
    "accuracy_lgbm"
   ]
  },
  {
   "cell_type": "code",
   "execution_count": 118,
   "metadata": {},
   "outputs": [
    {
     "data": {
      "text/plain": [
       "array([[17002,  3262],\n",
       "       [ 1676, 20030]], dtype=int64)"
      ]
     },
     "execution_count": 118,
     "metadata": {},
     "output_type": "execute_result"
    }
   ],
   "source": [
    "# Confusion Matrix\n",
    "confusion_matrix = confusion_matrix(y_test,yprediction)\n",
    "confusion_matrix"
   ]
  },
  {
   "cell_type": "code",
   "execution_count": 120,
   "metadata": {},
   "outputs": [],
   "source": [
    "def plot_confusion_matrix(cm,titre='Confusion Matrix'):\n",
    "    plt.imshow(cm,cmap=plt.cm.Blues)\n",
    "    plt.title(titre)\n",
    "    plt.colorbar()\n",
    "    labels = ['positif','negatif']\n",
    "    tick_marks = np.arange(len(labels))\n",
    "    plt.xticks(tick_marks,labels,rotation=45)\n",
    "    plt.yticks(tick_marks,labels)\n",
    "    plt.tight_layout()\n",
    "    plt.xlabel('True Labels')\n",
    "    plt.ylabel('Predictive Labels')"
   ]
  },
  {
   "cell_type": "code",
   "execution_count": 121,
   "metadata": {},
   "outputs": [
    {
     "data": {
      "image/png": "[encoded data removed]",
      "text/plain": [
       "<Figure size 432x288 with 2 Axes>"
      ]
     },
     "metadata": {
      "needs_background": "light"
     },
     "output_type": "display_data"
    }
   ],
   "source": [
    "plot_confusion_matrix(confusion_matrix)"
   ]
  },
  {
   "cell_type": "code",
   "execution_count": 119,
   "metadata": {},
   "outputs": [
    {
     "data": {
      "text/plain": [
       "0.8902617894128627"
      ]
     },
     "execution_count": 119,
     "metadata": {},
     "output_type": "execute_result"
    }
   ],
   "source": [
    "# F1_score\n",
    "F1Score = f1_score(y_test,yprediction)\n",
    "F1Score"
   ]
  },
  {
   "cell_type": "markdown",
   "metadata": {},
   "source": [
    "The F1_score reachs almost **90%** which is pretty good. "
   ]
  },
  {
   "cell_type": "code",
   "execution_count": 124,
   "metadata": {},
   "outputs": [
    {
     "data": {
      "text/plain": [
       "0.8809055990275093"
      ]
     },
     "execution_count": 124,
     "metadata": {},
     "output_type": "execute_result"
    }
   ],
   "source": [
    "#calculating roc_auc_score for light gbm. \n",
    "auc_lgbm = roc_auc_score(y_test,yprediction)\n",
    "auc_lgbm"
   ]
  },
  {
   "cell_type": "markdown",
   "metadata": {},
   "source": [
    "### Save our Model"
   ]
  },
  {
   "cell_type": "code",
   "execution_count": 50,
   "metadata": {},
   "outputs": [],
   "source": [
    "import pickle"
   ]
  },
  {
   "cell_type": "code",
   "execution_count": 65,
   "metadata": {},
   "outputs": [],
   "source": [
    "file = open('GBM_model.pkl','wb')\n",
    "pickle.dump(lgbm,file)"
   ]
  }
 ],
 "metadata": {
  "kernelspec": {
   "display_name": "Python 3",
   "language": "python",
   "name": "python3"
  },
  "language_info": {
   "codemirror_mode": {
    "name": "ipython",
    "version": 3
   },
   "file_extension": ".py",
   "mimetype": "text/x-python",
   "name": "python",
   "nbconvert_exporter": "python",
   "pygments_lexer": "ipython3",
   "version": "3.7.4"
  }
 },
 "nbformat": 4,
 "nbformat_minor": 2
}
